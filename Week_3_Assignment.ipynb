{
  "nbformat": 4,
  "nbformat_minor": 0,
  "metadata": {
    "colab": {
      "name": "Week 3 Assignment.ipynb",
      "provenance": [],
      "collapsed_sections": [],
      "include_colab_link": true
    },
    "kernelspec": {
      "display_name": "Python [conda root]",
      "language": "python",
      "name": "conda-root-py"
    }
  },
  "cells": [
    {
      "cell_type": "markdown",
      "metadata": {
        "id": "view-in-github",
        "colab_type": "text"
      },
      "source": [
        "<a href=\"https://colab.research.google.com/github/conste11ations/ml3253-2021/blob/main/Week_3_Assignment.ipynb\" target=\"_parent\"><img src=\"https://colab.research.google.com/assets/colab-badge.svg\" alt=\"Open In Colab\"/></a>"
      ]
    },
    {
      "cell_type": "markdown",
      "metadata": {
        "id": "yA-tG2tC-OW6"
      },
      "source": [
        "# Welcome to Assignment 3\n",
        "\n",
        "## In this weeek you are building a classification model using credit card client dataset. Once you run below code, you can submit your response on the Quercus platform."
      ]
    },
    {
      "cell_type": "code",
      "metadata": {
        "id": "Os8UEIgdR24Y"
      },
      "source": [
        "import numpy as np\n",
        "import pandas as pd\n",
        "\n",
        "# to make this notebook's output stable across runs\n",
        "np.random.seed(123)\n",
        "\n",
        "# To plot pretty figures\n",
        "%matplotlib inline\n",
        "import matplotlib\n",
        "import matplotlib.pyplot as plt\n",
        "plt.rcParams['axes.labelsize'] = 14\n",
        "plt.rcParams['xtick.labelsize'] = 12\n",
        "plt.rcParams['ytick.labelsize'] = 12"
      ],
      "execution_count": 2,
      "outputs": []
    },
    {
      "cell_type": "markdown",
      "metadata": {
        "id": "T0z7V3gOR24c"
      },
      "source": [
        "### Classification"
      ]
    },
    {
      "cell_type": "markdown",
      "metadata": {
        "id": "35cWOhAO6ZBo"
      },
      "source": [
        "<pre>\n",
        "X1: Amount of the given credit (NT dollar): it includes both the individual consumer credit and his/her family (supplementary) credit.\n",
        "\n",
        "X2: Gender (1 = male; 2 = female).\n",
        "\n",
        "X3: Education (1 = graduate school; 2 = university; 3 = high school; 0, 4, 5, 6 = others).\n",
        "\n",
        "X4: Marital status (1 = married; 2 = single; 3 = divorce; 0=others).\n",
        "\n",
        "X5: Age (year).\n",
        "\n",
        "X6 - X11: History of past payment. We tracked the past monthly payment records (from April to September, 2005) as follows: \n",
        "\n",
        "X6 : the repayment status in September, 2005;\n",
        "X7 : the repayment status in August, 2005; . . .;X11 : the repayment status in April, 2005. \n",
        "\n",
        "The measurement scale for the repayment status is:\n",
        "\n",
        "-2: No consumption; \n",
        "-1: Paid in full;\n",
        " 0: The use of revolving credit; \n",
        " 1: payment delay for one month; \n",
        " 2: payment delay for two months; . . .; 8 = payment delay for eight months; \n",
        " 9: payment delay for nine months and above.\n",
        "\n",
        "X12-X17: Amount of bill statement (NT dollar). \n",
        "X12 : amount of bill statement in September, 2005; \n",
        "X13 : amount of bill statement in August, 2005; . . .; X17 : amount of bill statement in April, 2005.\n",
        "\n",
        "X18-X23: Amount of previous payment (NT dollar). \n",
        "X18 : amount paid in September, 2005; \n",
        "X19 : amount paid in August, 2005; . . .;X23 : amount paid in April, 2005.\n",
        "\n",
        "Y: client's behavior; Y=0 then not default, Y=1 then default \n",
        "</pre>"
      ]
    },
    {
      "cell_type": "markdown",
      "metadata": {
        "id": "g1G_cA64R24d"
      },
      "source": [
        "Q1. Build a classification model for the default of credit card clients dataset. More info here:\n",
        "https://archive.ics.uci.edu/ml/datasets/default+of+credit+card+clients\n",
        "\n",
        "- Explore the data\n",
        "- Make sure you build a full data pipeline (Pipeline is part of learning during assignment. There are tons of freely available contents you can use, including this [video](https://www.youtube.com/watch?v=Om_TFrFGotQ) and [this](https://scikit-learn.org/stable/modules/generated/sklearn.pipeline.Pipeline.html) one from SKLearn )\n",
        "- Do you require any data pre-processing? Are all the features useful? (Use only raw features)\n",
        "- set the random seed to 123 (For splitting or any other random algorithm)\n",
        "- Split data into training (80%) and testing (20%)\n",
        "- Follow similar procedure as the one for week 2 (End-to-end Machine Learning Project). Remember apendix B\n",
        "- Study the ROC Curve, decide threshold\n",
        "- Implement hyper parameter tuning for your models. If you need to read more about hyperparameter tuning, please read [this](https://towardsdatascience.com/hyperparameter-tuning-c5619e7e6624) blog. You also had the same think in week 1 notebook (you can refer to the week 1 notebook to find out the code in action).\n",
        "- Use 2 classifiers ( we will discuss random forest later in the course).\n",
        "    - Random Forest (http://scikit-learn.org/stable/modules/generated/sklearn.ensemble.RandomForestClassifier.html)\n",
        "        - use hyperparameter tuning and try to tun only n_estimators with these values {3, 4, 6, 7, 10, 20, 50, 100} \n",
        "        \n",
        "    - KNN Classfier (http://scikit-learn.org/stable/modules/generated/sklearn.neighbors.KNeighborsClassifier.html)\n",
        "        - use hyperparameter tuning and try to tun only  n_neighbors with values {3, 4, 5, 7, 10, 20, 50} \n",
        "    - Which one performs better in the cross validation?\n",
        "    \n",
        "\n",
        "- Use Cross-validation with 4-folds and compare results.\n",
        "\n",
        "Notes:\n",
        "  - Make your code modular, the second part of the assignmet you will have to repeat. \n",
        "  - Provide inline comment and text for your code  readability "
      ]
    },
    {
      "cell_type": "code",
      "metadata": {
        "id": "jcK9rr6lR24d"
      },
      "source": [
        "### Your code here\n",
        "\n",
        "## Feel free to use multiple cells\n",
        "\n",
        "df = pd.read_excel(\"https://archive.ics.uci.edu/ml/machine-learning-databases/00350/default%20of%20credit%20card%20clients.xls\", skiprows= 1, header = 0)"
      ],
      "execution_count": 3,
      "outputs": []
    },
    {
      "cell_type": "code",
      "metadata": {
        "id": "17orkXFOXUe6"
      },
      "source": [
        "#df.loc[df.index[3330],\"BILL_AMT6\"]\n",
        "# why not\n",
        "df.loc[3330, \"BILL_AMT6\"]\n",
        "### Your code here\n",
        "\n",
        "df_explore = df.copy()\n",
        "df = df.rename(columns={\"default payment next month\": \"default\"})\n",
        "df_explore = df_explore.rename(columns={\"default payment next month\": \"default\"})\n"
      ],
      "execution_count": 4,
      "outputs": []
    },
    {
      "cell_type": "code",
      "metadata": {
        "id": "bGs1LQQ3_lqF",
        "outputId": "9ebdc229-39d4-4b54-e361-7b7c13a860c6",
        "colab": {
          "base_uri": "https://localhost:8080/",
          "height": 224
        }
      },
      "source": [
        "df.head()"
      ],
      "execution_count": 9,
      "outputs": [
        {
          "output_type": "execute_result",
          "data": {
            "text/html": [
              "<div>\n",
              "<style scoped>\n",
              "    .dataframe tbody tr th:only-of-type {\n",
              "        vertical-align: middle;\n",
              "    }\n",
              "\n",
              "    .dataframe tbody tr th {\n",
              "        vertical-align: top;\n",
              "    }\n",
              "\n",
              "    .dataframe thead th {\n",
              "        text-align: right;\n",
              "    }\n",
              "</style>\n",
              "<table border=\"1\" class=\"dataframe\">\n",
              "  <thead>\n",
              "    <tr style=\"text-align: right;\">\n",
              "      <th></th>\n",
              "      <th>ID</th>\n",
              "      <th>LIMIT_BAL</th>\n",
              "      <th>SEX</th>\n",
              "      <th>EDUCATION</th>\n",
              "      <th>MARRIAGE</th>\n",
              "      <th>AGE</th>\n",
              "      <th>PAY_0</th>\n",
              "      <th>PAY_2</th>\n",
              "      <th>PAY_3</th>\n",
              "      <th>PAY_4</th>\n",
              "      <th>PAY_5</th>\n",
              "      <th>PAY_6</th>\n",
              "      <th>BILL_AMT1</th>\n",
              "      <th>BILL_AMT2</th>\n",
              "      <th>BILL_AMT3</th>\n",
              "      <th>BILL_AMT4</th>\n",
              "      <th>BILL_AMT5</th>\n",
              "      <th>BILL_AMT6</th>\n",
              "      <th>PAY_AMT1</th>\n",
              "      <th>PAY_AMT2</th>\n",
              "      <th>PAY_AMT3</th>\n",
              "      <th>PAY_AMT4</th>\n",
              "      <th>PAY_AMT5</th>\n",
              "      <th>PAY_AMT6</th>\n",
              "      <th>default</th>\n",
              "    </tr>\n",
              "  </thead>\n",
              "  <tbody>\n",
              "    <tr>\n",
              "      <th>0</th>\n",
              "      <td>1</td>\n",
              "      <td>20000</td>\n",
              "      <td>2</td>\n",
              "      <td>2</td>\n",
              "      <td>1</td>\n",
              "      <td>24</td>\n",
              "      <td>2</td>\n",
              "      <td>2</td>\n",
              "      <td>-1</td>\n",
              "      <td>-1</td>\n",
              "      <td>-2</td>\n",
              "      <td>-2</td>\n",
              "      <td>3913</td>\n",
              "      <td>3102</td>\n",
              "      <td>689</td>\n",
              "      <td>0</td>\n",
              "      <td>0</td>\n",
              "      <td>0</td>\n",
              "      <td>0</td>\n",
              "      <td>689</td>\n",
              "      <td>0</td>\n",
              "      <td>0</td>\n",
              "      <td>0</td>\n",
              "      <td>0</td>\n",
              "      <td>1</td>\n",
              "    </tr>\n",
              "    <tr>\n",
              "      <th>1</th>\n",
              "      <td>2</td>\n",
              "      <td>120000</td>\n",
              "      <td>2</td>\n",
              "      <td>2</td>\n",
              "      <td>2</td>\n",
              "      <td>26</td>\n",
              "      <td>-1</td>\n",
              "      <td>2</td>\n",
              "      <td>0</td>\n",
              "      <td>0</td>\n",
              "      <td>0</td>\n",
              "      <td>2</td>\n",
              "      <td>2682</td>\n",
              "      <td>1725</td>\n",
              "      <td>2682</td>\n",
              "      <td>3272</td>\n",
              "      <td>3455</td>\n",
              "      <td>3261</td>\n",
              "      <td>0</td>\n",
              "      <td>1000</td>\n",
              "      <td>1000</td>\n",
              "      <td>1000</td>\n",
              "      <td>0</td>\n",
              "      <td>2000</td>\n",
              "      <td>1</td>\n",
              "    </tr>\n",
              "    <tr>\n",
              "      <th>2</th>\n",
              "      <td>3</td>\n",
              "      <td>90000</td>\n",
              "      <td>2</td>\n",
              "      <td>2</td>\n",
              "      <td>2</td>\n",
              "      <td>34</td>\n",
              "      <td>0</td>\n",
              "      <td>0</td>\n",
              "      <td>0</td>\n",
              "      <td>0</td>\n",
              "      <td>0</td>\n",
              "      <td>0</td>\n",
              "      <td>29239</td>\n",
              "      <td>14027</td>\n",
              "      <td>13559</td>\n",
              "      <td>14331</td>\n",
              "      <td>14948</td>\n",
              "      <td>15549</td>\n",
              "      <td>1518</td>\n",
              "      <td>1500</td>\n",
              "      <td>1000</td>\n",
              "      <td>1000</td>\n",
              "      <td>1000</td>\n",
              "      <td>5000</td>\n",
              "      <td>0</td>\n",
              "    </tr>\n",
              "    <tr>\n",
              "      <th>3</th>\n",
              "      <td>4</td>\n",
              "      <td>50000</td>\n",
              "      <td>2</td>\n",
              "      <td>2</td>\n",
              "      <td>1</td>\n",
              "      <td>37</td>\n",
              "      <td>0</td>\n",
              "      <td>0</td>\n",
              "      <td>0</td>\n",
              "      <td>0</td>\n",
              "      <td>0</td>\n",
              "      <td>0</td>\n",
              "      <td>46990</td>\n",
              "      <td>48233</td>\n",
              "      <td>49291</td>\n",
              "      <td>28314</td>\n",
              "      <td>28959</td>\n",
              "      <td>29547</td>\n",
              "      <td>2000</td>\n",
              "      <td>2019</td>\n",
              "      <td>1200</td>\n",
              "      <td>1100</td>\n",
              "      <td>1069</td>\n",
              "      <td>1000</td>\n",
              "      <td>0</td>\n",
              "    </tr>\n",
              "    <tr>\n",
              "      <th>4</th>\n",
              "      <td>5</td>\n",
              "      <td>50000</td>\n",
              "      <td>1</td>\n",
              "      <td>2</td>\n",
              "      <td>1</td>\n",
              "      <td>57</td>\n",
              "      <td>-1</td>\n",
              "      <td>0</td>\n",
              "      <td>-1</td>\n",
              "      <td>0</td>\n",
              "      <td>0</td>\n",
              "      <td>0</td>\n",
              "      <td>8617</td>\n",
              "      <td>5670</td>\n",
              "      <td>35835</td>\n",
              "      <td>20940</td>\n",
              "      <td>19146</td>\n",
              "      <td>19131</td>\n",
              "      <td>2000</td>\n",
              "      <td>36681</td>\n",
              "      <td>10000</td>\n",
              "      <td>9000</td>\n",
              "      <td>689</td>\n",
              "      <td>679</td>\n",
              "      <td>0</td>\n",
              "    </tr>\n",
              "  </tbody>\n",
              "</table>\n",
              "</div>"
            ],
            "text/plain": [
              "   ID  LIMIT_BAL  SEX  EDUCATION  ...  PAY_AMT4  PAY_AMT5  PAY_AMT6  default\n",
              "0   1      20000    2          2  ...         0         0         0        1\n",
              "1   2     120000    2          2  ...      1000         0      2000        1\n",
              "2   3      90000    2          2  ...      1000      1000      5000        0\n",
              "3   4      50000    2          2  ...      1100      1069      1000        0\n",
              "4   5      50000    1          2  ...      9000       689       679        0\n",
              "\n",
              "[5 rows x 25 columns]"
            ]
          },
          "metadata": {
            "tags": []
          },
          "execution_count": 9
        }
      ]
    },
    {
      "cell_type": "code",
      "metadata": {
        "id": "TTL5JwSRPGWy"
      },
      "source": [
        "df.info()"
      ],
      "execution_count": null,
      "outputs": []
    },
    {
      "cell_type": "code",
      "metadata": {
        "id": "XvJxHqSAZBCS",
        "outputId": "5b625fb1-cecd-453f-bd8f-fb8682ded2b7",
        "colab": {
          "base_uri": "https://localhost:8080/"
        }
      },
      "source": [
        "df.shape"
      ],
      "execution_count": 11,
      "outputs": [
        {
          "output_type": "execute_result",
          "data": {
            "text/plain": [
              "(30000, 25)"
            ]
          },
          "metadata": {
            "tags": []
          },
          "execution_count": 11
        }
      ]
    },
    {
      "cell_type": "code",
      "metadata": {
        "id": "j8YxxygBls3o"
      },
      "source": [
        "df.dtypes"
      ],
      "execution_count": null,
      "outputs": []
    },
    {
      "cell_type": "code",
      "metadata": {
        "id": "OV7PrafWlxfB",
        "outputId": "031cc1de-5641-467e-d9ca-e169d1a17ff4",
        "colab": {
          "base_uri": "https://localhost:8080/",
          "height": 379
        }
      },
      "source": [
        "pd.options.display.max_columns = None\n",
        "df_explore.sample(10, random_state=123)"
      ],
      "execution_count": 16,
      "outputs": [
        {
          "output_type": "execute_result",
          "data": {
            "text/html": [
              "<div>\n",
              "<style scoped>\n",
              "    .dataframe tbody tr th:only-of-type {\n",
              "        vertical-align: middle;\n",
              "    }\n",
              "\n",
              "    .dataframe tbody tr th {\n",
              "        vertical-align: top;\n",
              "    }\n",
              "\n",
              "    .dataframe thead th {\n",
              "        text-align: right;\n",
              "    }\n",
              "</style>\n",
              "<table border=\"1\" class=\"dataframe\">\n",
              "  <thead>\n",
              "    <tr style=\"text-align: right;\">\n",
              "      <th></th>\n",
              "      <th>ID</th>\n",
              "      <th>LIMIT_BAL</th>\n",
              "      <th>SEX</th>\n",
              "      <th>EDUCATION</th>\n",
              "      <th>MARRIAGE</th>\n",
              "      <th>AGE</th>\n",
              "      <th>PAY_0</th>\n",
              "      <th>PAY_2</th>\n",
              "      <th>PAY_3</th>\n",
              "      <th>PAY_4</th>\n",
              "      <th>PAY_5</th>\n",
              "      <th>PAY_6</th>\n",
              "      <th>BILL_AMT1</th>\n",
              "      <th>BILL_AMT2</th>\n",
              "      <th>BILL_AMT3</th>\n",
              "      <th>BILL_AMT4</th>\n",
              "      <th>BILL_AMT5</th>\n",
              "      <th>BILL_AMT6</th>\n",
              "      <th>PAY_AMT1</th>\n",
              "      <th>PAY_AMT2</th>\n",
              "      <th>PAY_AMT3</th>\n",
              "      <th>PAY_AMT4</th>\n",
              "      <th>PAY_AMT5</th>\n",
              "      <th>PAY_AMT6</th>\n",
              "      <th>default</th>\n",
              "    </tr>\n",
              "  </thead>\n",
              "  <tbody>\n",
              "    <tr>\n",
              "      <th>25665</th>\n",
              "      <td>25666</td>\n",
              "      <td>40000</td>\n",
              "      <td>2</td>\n",
              "      <td>2</td>\n",
              "      <td>2</td>\n",
              "      <td>26</td>\n",
              "      <td>-1</td>\n",
              "      <td>0</td>\n",
              "      <td>0</td>\n",
              "      <td>0</td>\n",
              "      <td>-1</td>\n",
              "      <td>0</td>\n",
              "      <td>28991</td>\n",
              "      <td>24391</td>\n",
              "      <td>13600</td>\n",
              "      <td>0</td>\n",
              "      <td>44024</td>\n",
              "      <td>18697</td>\n",
              "      <td>1300</td>\n",
              "      <td>1000</td>\n",
              "      <td>0</td>\n",
              "      <td>22373</td>\n",
              "      <td>680</td>\n",
              "      <td>10000</td>\n",
              "      <td>0</td>\n",
              "    </tr>\n",
              "    <tr>\n",
              "      <th>16464</th>\n",
              "      <td>16465</td>\n",
              "      <td>80000</td>\n",
              "      <td>2</td>\n",
              "      <td>3</td>\n",
              "      <td>1</td>\n",
              "      <td>59</td>\n",
              "      <td>0</td>\n",
              "      <td>0</td>\n",
              "      <td>0</td>\n",
              "      <td>0</td>\n",
              "      <td>0</td>\n",
              "      <td>0</td>\n",
              "      <td>75662</td>\n",
              "      <td>70073</td>\n",
              "      <td>53169</td>\n",
              "      <td>50875</td>\n",
              "      <td>50372</td>\n",
              "      <td>49470</td>\n",
              "      <td>3212</td>\n",
              "      <td>2106</td>\n",
              "      <td>2000</td>\n",
              "      <td>1603</td>\n",
              "      <td>1903</td>\n",
              "      <td>2006</td>\n",
              "      <td>0</td>\n",
              "    </tr>\n",
              "    <tr>\n",
              "      <th>22386</th>\n",
              "      <td>22387</td>\n",
              "      <td>170000</td>\n",
              "      <td>2</td>\n",
              "      <td>1</td>\n",
              "      <td>2</td>\n",
              "      <td>30</td>\n",
              "      <td>2</td>\n",
              "      <td>2</td>\n",
              "      <td>2</td>\n",
              "      <td>2</td>\n",
              "      <td>2</td>\n",
              "      <td>2</td>\n",
              "      <td>155910</td>\n",
              "      <td>158819</td>\n",
              "      <td>161487</td>\n",
              "      <td>157577</td>\n",
              "      <td>168094</td>\n",
              "      <td>170922</td>\n",
              "      <td>6800</td>\n",
              "      <td>6500</td>\n",
              "      <td>0</td>\n",
              "      <td>13000</td>\n",
              "      <td>5500</td>\n",
              "      <td>1000</td>\n",
              "      <td>1</td>\n",
              "    </tr>\n",
              "    <tr>\n",
              "      <th>10149</th>\n",
              "      <td>10150</td>\n",
              "      <td>200000</td>\n",
              "      <td>2</td>\n",
              "      <td>2</td>\n",
              "      <td>1</td>\n",
              "      <td>41</td>\n",
              "      <td>-2</td>\n",
              "      <td>-2</td>\n",
              "      <td>-2</td>\n",
              "      <td>-2</td>\n",
              "      <td>-2</td>\n",
              "      <td>-2</td>\n",
              "      <td>23570</td>\n",
              "      <td>735</td>\n",
              "      <td>0</td>\n",
              "      <td>0</td>\n",
              "      <td>0</td>\n",
              "      <td>0</td>\n",
              "      <td>742</td>\n",
              "      <td>0</td>\n",
              "      <td>0</td>\n",
              "      <td>0</td>\n",
              "      <td>0</td>\n",
              "      <td>0</td>\n",
              "      <td>1</td>\n",
              "    </tr>\n",
              "    <tr>\n",
              "      <th>8729</th>\n",
              "      <td>8730</td>\n",
              "      <td>50000</td>\n",
              "      <td>1</td>\n",
              "      <td>2</td>\n",
              "      <td>1</td>\n",
              "      <td>43</td>\n",
              "      <td>0</td>\n",
              "      <td>0</td>\n",
              "      <td>0</td>\n",
              "      <td>0</td>\n",
              "      <td>0</td>\n",
              "      <td>0</td>\n",
              "      <td>8214</td>\n",
              "      <td>8034</td>\n",
              "      <td>9044</td>\n",
              "      <td>9225</td>\n",
              "      <td>9417</td>\n",
              "      <td>9617</td>\n",
              "      <td>1140</td>\n",
              "      <td>1150</td>\n",
              "      <td>331</td>\n",
              "      <td>341</td>\n",
              "      <td>356</td>\n",
              "      <td>330</td>\n",
              "      <td>0</td>\n",
              "    </tr>\n",
              "    <tr>\n",
              "      <th>25295</th>\n",
              "      <td>25296</td>\n",
              "      <td>60000</td>\n",
              "      <td>2</td>\n",
              "      <td>2</td>\n",
              "      <td>2</td>\n",
              "      <td>24</td>\n",
              "      <td>0</td>\n",
              "      <td>0</td>\n",
              "      <td>0</td>\n",
              "      <td>0</td>\n",
              "      <td>0</td>\n",
              "      <td>0</td>\n",
              "      <td>50840</td>\n",
              "      <td>49592</td>\n",
              "      <td>44412</td>\n",
              "      <td>45402</td>\n",
              "      <td>35704</td>\n",
              "      <td>36524</td>\n",
              "      <td>2100</td>\n",
              "      <td>1847</td>\n",
              "      <td>1837</td>\n",
              "      <td>1139</td>\n",
              "      <td>1254</td>\n",
              "      <td>1387</td>\n",
              "      <td>0</td>\n",
              "    </tr>\n",
              "    <tr>\n",
              "      <th>8876</th>\n",
              "      <td>8877</td>\n",
              "      <td>50000</td>\n",
              "      <td>2</td>\n",
              "      <td>2</td>\n",
              "      <td>1</td>\n",
              "      <td>37</td>\n",
              "      <td>0</td>\n",
              "      <td>0</td>\n",
              "      <td>0</td>\n",
              "      <td>0</td>\n",
              "      <td>0</td>\n",
              "      <td>0</td>\n",
              "      <td>25234</td>\n",
              "      <td>23518</td>\n",
              "      <td>21746</td>\n",
              "      <td>18082</td>\n",
              "      <td>18461</td>\n",
              "      <td>18830</td>\n",
              "      <td>1384</td>\n",
              "      <td>1300</td>\n",
              "      <td>700</td>\n",
              "      <td>670</td>\n",
              "      <td>676</td>\n",
              "      <td>700</td>\n",
              "      <td>0</td>\n",
              "    </tr>\n",
              "    <tr>\n",
              "      <th>12348</th>\n",
              "      <td>12349</td>\n",
              "      <td>140000</td>\n",
              "      <td>2</td>\n",
              "      <td>3</td>\n",
              "      <td>1</td>\n",
              "      <td>46</td>\n",
              "      <td>0</td>\n",
              "      <td>0</td>\n",
              "      <td>0</td>\n",
              "      <td>0</td>\n",
              "      <td>0</td>\n",
              "      <td>0</td>\n",
              "      <td>132586</td>\n",
              "      <td>135165</td>\n",
              "      <td>125427</td>\n",
              "      <td>128016</td>\n",
              "      <td>127323</td>\n",
              "      <td>130020</td>\n",
              "      <td>4800</td>\n",
              "      <td>4500</td>\n",
              "      <td>4600</td>\n",
              "      <td>4800</td>\n",
              "      <td>4800</td>\n",
              "      <td>4500</td>\n",
              "      <td>0</td>\n",
              "    </tr>\n",
              "    <tr>\n",
              "      <th>3858</th>\n",
              "      <td>3859</td>\n",
              "      <td>200000</td>\n",
              "      <td>1</td>\n",
              "      <td>2</td>\n",
              "      <td>1</td>\n",
              "      <td>36</td>\n",
              "      <td>1</td>\n",
              "      <td>-2</td>\n",
              "      <td>-1</td>\n",
              "      <td>-1</td>\n",
              "      <td>-1</td>\n",
              "      <td>-1</td>\n",
              "      <td>-1</td>\n",
              "      <td>-1</td>\n",
              "      <td>296</td>\n",
              "      <td>299</td>\n",
              "      <td>278</td>\n",
              "      <td>4575</td>\n",
              "      <td>0</td>\n",
              "      <td>297</td>\n",
              "      <td>303</td>\n",
              "      <td>279</td>\n",
              "      <td>4597</td>\n",
              "      <td>0</td>\n",
              "      <td>0</td>\n",
              "    </tr>\n",
              "    <tr>\n",
              "      <th>19209</th>\n",
              "      <td>19210</td>\n",
              "      <td>210000</td>\n",
              "      <td>2</td>\n",
              "      <td>1</td>\n",
              "      <td>2</td>\n",
              "      <td>30</td>\n",
              "      <td>-2</td>\n",
              "      <td>-2</td>\n",
              "      <td>-2</td>\n",
              "      <td>-2</td>\n",
              "      <td>-2</td>\n",
              "      <td>-2</td>\n",
              "      <td>0</td>\n",
              "      <td>0</td>\n",
              "      <td>0</td>\n",
              "      <td>0</td>\n",
              "      <td>0</td>\n",
              "      <td>0</td>\n",
              "      <td>0</td>\n",
              "      <td>0</td>\n",
              "      <td>0</td>\n",
              "      <td>0</td>\n",
              "      <td>0</td>\n",
              "      <td>0</td>\n",
              "      <td>0</td>\n",
              "    </tr>\n",
              "  </tbody>\n",
              "</table>\n",
              "</div>"
            ],
            "text/plain": [
              "          ID  LIMIT_BAL  SEX  EDUCATION  MARRIAGE  AGE  PAY_0  PAY_2  PAY_3  \\\n",
              "25665  25666      40000    2          2         2   26     -1      0      0   \n",
              "16464  16465      80000    2          3         1   59      0      0      0   \n",
              "22386  22387     170000    2          1         2   30      2      2      2   \n",
              "10149  10150     200000    2          2         1   41     -2     -2     -2   \n",
              "8729    8730      50000    1          2         1   43      0      0      0   \n",
              "25295  25296      60000    2          2         2   24      0      0      0   \n",
              "8876    8877      50000    2          2         1   37      0      0      0   \n",
              "12348  12349     140000    2          3         1   46      0      0      0   \n",
              "3858    3859     200000    1          2         1   36      1     -2     -1   \n",
              "19209  19210     210000    2          1         2   30     -2     -2     -2   \n",
              "\n",
              "       PAY_4  PAY_5  PAY_6  BILL_AMT1  BILL_AMT2  BILL_AMT3  BILL_AMT4  \\\n",
              "25665      0     -1      0      28991      24391      13600          0   \n",
              "16464      0      0      0      75662      70073      53169      50875   \n",
              "22386      2      2      2     155910     158819     161487     157577   \n",
              "10149     -2     -2     -2      23570        735          0          0   \n",
              "8729       0      0      0       8214       8034       9044       9225   \n",
              "25295      0      0      0      50840      49592      44412      45402   \n",
              "8876       0      0      0      25234      23518      21746      18082   \n",
              "12348      0      0      0     132586     135165     125427     128016   \n",
              "3858      -1     -1     -1         -1         -1        296        299   \n",
              "19209     -2     -2     -2          0          0          0          0   \n",
              "\n",
              "       BILL_AMT5  BILL_AMT6  PAY_AMT1  PAY_AMT2  PAY_AMT3  PAY_AMT4  PAY_AMT5  \\\n",
              "25665      44024      18697      1300      1000         0     22373       680   \n",
              "16464      50372      49470      3212      2106      2000      1603      1903   \n",
              "22386     168094     170922      6800      6500         0     13000      5500   \n",
              "10149          0          0       742         0         0         0         0   \n",
              "8729        9417       9617      1140      1150       331       341       356   \n",
              "25295      35704      36524      2100      1847      1837      1139      1254   \n",
              "8876       18461      18830      1384      1300       700       670       676   \n",
              "12348     127323     130020      4800      4500      4600      4800      4800   \n",
              "3858         278       4575         0       297       303       279      4597   \n",
              "19209          0          0         0         0         0         0         0   \n",
              "\n",
              "       PAY_AMT6  default  \n",
              "25665     10000        0  \n",
              "16464      2006        0  \n",
              "22386      1000        1  \n",
              "10149         0        1  \n",
              "8729        330        0  \n",
              "25295      1387        0  \n",
              "8876        700        0  \n",
              "12348      4500        0  \n",
              "3858          0        0  \n",
              "19209         0        0  "
            ]
          },
          "metadata": {
            "tags": []
          },
          "execution_count": 16
        }
      ]
    },
    {
      "cell_type": "code",
      "metadata": {
        "id": "Ng0kE0zCmF0K",
        "outputId": "e510ff80-e945-4b2e-bef7-307fa9e11693",
        "colab": {
          "base_uri": "https://localhost:8080/"
        }
      },
      "source": [
        "# count nulls -> no null values\n",
        "count_nulls = [ (x, df_explore[x].isnull().sum()) for x in df_explore.columns]\n",
        "count_nulls"
      ],
      "execution_count": 17,
      "outputs": [
        {
          "output_type": "execute_result",
          "data": {
            "text/plain": [
              "[('ID', 0),\n",
              " ('LIMIT_BAL', 0),\n",
              " ('SEX', 0),\n",
              " ('EDUCATION', 0),\n",
              " ('MARRIAGE', 0),\n",
              " ('AGE', 0),\n",
              " ('PAY_0', 0),\n",
              " ('PAY_2', 0),\n",
              " ('PAY_3', 0),\n",
              " ('PAY_4', 0),\n",
              " ('PAY_5', 0),\n",
              " ('PAY_6', 0),\n",
              " ('BILL_AMT1', 0),\n",
              " ('BILL_AMT2', 0),\n",
              " ('BILL_AMT3', 0),\n",
              " ('BILL_AMT4', 0),\n",
              " ('BILL_AMT5', 0),\n",
              " ('BILL_AMT6', 0),\n",
              " ('PAY_AMT1', 0),\n",
              " ('PAY_AMT2', 0),\n",
              " ('PAY_AMT3', 0),\n",
              " ('PAY_AMT4', 0),\n",
              " ('PAY_AMT5', 0),\n",
              " ('PAY_AMT6', 0),\n",
              " ('default', 0)]"
            ]
          },
          "metadata": {
            "tags": []
          },
          "execution_count": 17
        }
      ]
    },
    {
      "cell_type": "code",
      "metadata": {
        "id": "cDSlN4DzmKZM",
        "outputId": "35c6c3cd-201d-4c7c-8d2d-c02332b80cfe",
        "colab": {
          "base_uri": "https://localhost:8080/",
          "height": 111
        }
      },
      "source": [
        "# Class distribution\n",
        "\n",
        "defaults_distr = pd.DataFrame(df_explore['default'].value_counts().astype(int))\n",
        "defaults_distr"
      ],
      "execution_count": 18,
      "outputs": [
        {
          "output_type": "execute_result",
          "data": {
            "text/html": [
              "<div>\n",
              "<style scoped>\n",
              "    .dataframe tbody tr th:only-of-type {\n",
              "        vertical-align: middle;\n",
              "    }\n",
              "\n",
              "    .dataframe tbody tr th {\n",
              "        vertical-align: top;\n",
              "    }\n",
              "\n",
              "    .dataframe thead th {\n",
              "        text-align: right;\n",
              "    }\n",
              "</style>\n",
              "<table border=\"1\" class=\"dataframe\">\n",
              "  <thead>\n",
              "    <tr style=\"text-align: right;\">\n",
              "      <th></th>\n",
              "      <th>default</th>\n",
              "    </tr>\n",
              "  </thead>\n",
              "  <tbody>\n",
              "    <tr>\n",
              "      <th>0</th>\n",
              "      <td>23364</td>\n",
              "    </tr>\n",
              "    <tr>\n",
              "      <th>1</th>\n",
              "      <td>6636</td>\n",
              "    </tr>\n",
              "  </tbody>\n",
              "</table>\n",
              "</div>"
            ],
            "text/plain": [
              "   default\n",
              "0    23364\n",
              "1     6636"
            ]
          },
          "metadata": {
            "tags": []
          },
          "execution_count": 18
        }
      ]
    },
    {
      "cell_type": "code",
      "metadata": {
        "id": "WUsryeZrmPkk",
        "outputId": "8ca9e41d-cf86-4fa3-d7a8-8cfeb18057c5",
        "colab": {
          "base_uri": "https://localhost:8080/"
        }
      },
      "source": [
        "print('Total number of clients: ' + str(int(defaults_distr['default'][0]+defaults_distr['default'][1]))) \n",
        "print('Defaults: ' + str(int(defaults_distr['default'][1])) + ' (' +\n",
        "      str((100.0*defaults_distr['default'][1])/(defaults_distr['default'][0]+defaults_distr['default'][1])) + '%)')"
      ],
      "execution_count": 19,
      "outputs": [
        {
          "output_type": "stream",
          "text": [
            "Total number of clients: 30000\n",
            "Defaults: 6636 (22.12%)\n"
          ],
          "name": "stdout"
        }
      ]
    },
    {
      "cell_type": "code",
      "metadata": {
        "id": "auwZltxOmUnz"
      },
      "source": [
        "dependant_var = [\"default\"]\n",
        "\n",
        "categorical_vars = ['SEX', 'EDUCATION', 'MARRIAGE']\n",
        "\n",
        "continuous_vars = ['LIMIT_BAL', 'AGE', 'BILL_AMT1', 'BILL_AMT2', 'BILL_AMT3', 'BILL_AMT4', 'BILL_AMT5', 'BILL_AMT6', \n",
        "                   'PAY_AMT1', 'PAY_AMT2', 'PAY_AMT3', 'PAY_AMT4', 'PAY_AMT5', 'PAY_AMT6']\n",
        "discrete_vars = ['PAY_0', 'PAY_2', 'PAY_3', 'PAY_4', 'PAY_5', 'PAY_6']"
      ],
      "execution_count": 7,
      "outputs": []
    },
    {
      "cell_type": "code",
      "metadata": {
        "id": "bkTF0GycmV8A",
        "outputId": "29afe1a3-8ee1-48f2-d682-50bd3c3da73e",
        "colab": {
          "base_uri": "https://localhost:8080/",
          "height": 317
        }
      },
      "source": [
        "pd.options.display.max_columns = None\n",
        "df_explore.loc[:, dependant_var + discrete_vars + continuous_vars].describe()"
      ],
      "execution_count": 21,
      "outputs": [
        {
          "output_type": "execute_result",
          "data": {
            "text/html": [
              "<div>\n",
              "<style scoped>\n",
              "    .dataframe tbody tr th:only-of-type {\n",
              "        vertical-align: middle;\n",
              "    }\n",
              "\n",
              "    .dataframe tbody tr th {\n",
              "        vertical-align: top;\n",
              "    }\n",
              "\n",
              "    .dataframe thead th {\n",
              "        text-align: right;\n",
              "    }\n",
              "</style>\n",
              "<table border=\"1\" class=\"dataframe\">\n",
              "  <thead>\n",
              "    <tr style=\"text-align: right;\">\n",
              "      <th></th>\n",
              "      <th>default</th>\n",
              "      <th>PAY_0</th>\n",
              "      <th>PAY_2</th>\n",
              "      <th>PAY_3</th>\n",
              "      <th>PAY_4</th>\n",
              "      <th>PAY_5</th>\n",
              "      <th>PAY_6</th>\n",
              "      <th>LIMIT_BAL</th>\n",
              "      <th>AGE</th>\n",
              "      <th>BILL_AMT1</th>\n",
              "      <th>BILL_AMT2</th>\n",
              "      <th>BILL_AMT3</th>\n",
              "      <th>BILL_AMT4</th>\n",
              "      <th>BILL_AMT5</th>\n",
              "      <th>BILL_AMT6</th>\n",
              "      <th>PAY_AMT1</th>\n",
              "      <th>PAY_AMT2</th>\n",
              "      <th>PAY_AMT3</th>\n",
              "      <th>PAY_AMT4</th>\n",
              "      <th>PAY_AMT5</th>\n",
              "      <th>PAY_AMT6</th>\n",
              "    </tr>\n",
              "  </thead>\n",
              "  <tbody>\n",
              "    <tr>\n",
              "      <th>count</th>\n",
              "      <td>30000.000000</td>\n",
              "      <td>30000.000000</td>\n",
              "      <td>30000.000000</td>\n",
              "      <td>30000.000000</td>\n",
              "      <td>30000.000000</td>\n",
              "      <td>30000.000000</td>\n",
              "      <td>30000.000000</td>\n",
              "      <td>30000.000000</td>\n",
              "      <td>30000.000000</td>\n",
              "      <td>30000.000000</td>\n",
              "      <td>30000.000000</td>\n",
              "      <td>3.000000e+04</td>\n",
              "      <td>30000.000000</td>\n",
              "      <td>30000.000000</td>\n",
              "      <td>30000.000000</td>\n",
              "      <td>30000.000000</td>\n",
              "      <td>3.000000e+04</td>\n",
              "      <td>30000.00000</td>\n",
              "      <td>30000.000000</td>\n",
              "      <td>30000.000000</td>\n",
              "      <td>30000.000000</td>\n",
              "    </tr>\n",
              "    <tr>\n",
              "      <th>mean</th>\n",
              "      <td>0.221200</td>\n",
              "      <td>-0.016700</td>\n",
              "      <td>-0.133767</td>\n",
              "      <td>-0.166200</td>\n",
              "      <td>-0.220667</td>\n",
              "      <td>-0.266200</td>\n",
              "      <td>-0.291100</td>\n",
              "      <td>167484.322667</td>\n",
              "      <td>35.485500</td>\n",
              "      <td>51223.330900</td>\n",
              "      <td>49179.075167</td>\n",
              "      <td>4.701315e+04</td>\n",
              "      <td>43262.948967</td>\n",
              "      <td>40311.400967</td>\n",
              "      <td>38871.760400</td>\n",
              "      <td>5663.580500</td>\n",
              "      <td>5.921163e+03</td>\n",
              "      <td>5225.68150</td>\n",
              "      <td>4826.076867</td>\n",
              "      <td>4799.387633</td>\n",
              "      <td>5215.502567</td>\n",
              "    </tr>\n",
              "    <tr>\n",
              "      <th>std</th>\n",
              "      <td>0.415062</td>\n",
              "      <td>1.123802</td>\n",
              "      <td>1.197186</td>\n",
              "      <td>1.196868</td>\n",
              "      <td>1.169139</td>\n",
              "      <td>1.133187</td>\n",
              "      <td>1.149988</td>\n",
              "      <td>129747.661567</td>\n",
              "      <td>9.217904</td>\n",
              "      <td>73635.860576</td>\n",
              "      <td>71173.768783</td>\n",
              "      <td>6.934939e+04</td>\n",
              "      <td>64332.856134</td>\n",
              "      <td>60797.155770</td>\n",
              "      <td>59554.107537</td>\n",
              "      <td>16563.280354</td>\n",
              "      <td>2.304087e+04</td>\n",
              "      <td>17606.96147</td>\n",
              "      <td>15666.159744</td>\n",
              "      <td>15278.305679</td>\n",
              "      <td>17777.465775</td>\n",
              "    </tr>\n",
              "    <tr>\n",
              "      <th>min</th>\n",
              "      <td>0.000000</td>\n",
              "      <td>-2.000000</td>\n",
              "      <td>-2.000000</td>\n",
              "      <td>-2.000000</td>\n",
              "      <td>-2.000000</td>\n",
              "      <td>-2.000000</td>\n",
              "      <td>-2.000000</td>\n",
              "      <td>10000.000000</td>\n",
              "      <td>21.000000</td>\n",
              "      <td>-165580.000000</td>\n",
              "      <td>-69777.000000</td>\n",
              "      <td>-1.572640e+05</td>\n",
              "      <td>-170000.000000</td>\n",
              "      <td>-81334.000000</td>\n",
              "      <td>-339603.000000</td>\n",
              "      <td>0.000000</td>\n",
              "      <td>0.000000e+00</td>\n",
              "      <td>0.00000</td>\n",
              "      <td>0.000000</td>\n",
              "      <td>0.000000</td>\n",
              "      <td>0.000000</td>\n",
              "    </tr>\n",
              "    <tr>\n",
              "      <th>25%</th>\n",
              "      <td>0.000000</td>\n",
              "      <td>-1.000000</td>\n",
              "      <td>-1.000000</td>\n",
              "      <td>-1.000000</td>\n",
              "      <td>-1.000000</td>\n",
              "      <td>-1.000000</td>\n",
              "      <td>-1.000000</td>\n",
              "      <td>50000.000000</td>\n",
              "      <td>28.000000</td>\n",
              "      <td>3558.750000</td>\n",
              "      <td>2984.750000</td>\n",
              "      <td>2.666250e+03</td>\n",
              "      <td>2326.750000</td>\n",
              "      <td>1763.000000</td>\n",
              "      <td>1256.000000</td>\n",
              "      <td>1000.000000</td>\n",
              "      <td>8.330000e+02</td>\n",
              "      <td>390.00000</td>\n",
              "      <td>296.000000</td>\n",
              "      <td>252.500000</td>\n",
              "      <td>117.750000</td>\n",
              "    </tr>\n",
              "    <tr>\n",
              "      <th>50%</th>\n",
              "      <td>0.000000</td>\n",
              "      <td>0.000000</td>\n",
              "      <td>0.000000</td>\n",
              "      <td>0.000000</td>\n",
              "      <td>0.000000</td>\n",
              "      <td>0.000000</td>\n",
              "      <td>0.000000</td>\n",
              "      <td>140000.000000</td>\n",
              "      <td>34.000000</td>\n",
              "      <td>22381.500000</td>\n",
              "      <td>21200.000000</td>\n",
              "      <td>2.008850e+04</td>\n",
              "      <td>19052.000000</td>\n",
              "      <td>18104.500000</td>\n",
              "      <td>17071.000000</td>\n",
              "      <td>2100.000000</td>\n",
              "      <td>2.009000e+03</td>\n",
              "      <td>1800.00000</td>\n",
              "      <td>1500.000000</td>\n",
              "      <td>1500.000000</td>\n",
              "      <td>1500.000000</td>\n",
              "    </tr>\n",
              "    <tr>\n",
              "      <th>75%</th>\n",
              "      <td>0.000000</td>\n",
              "      <td>0.000000</td>\n",
              "      <td>0.000000</td>\n",
              "      <td>0.000000</td>\n",
              "      <td>0.000000</td>\n",
              "      <td>0.000000</td>\n",
              "      <td>0.000000</td>\n",
              "      <td>240000.000000</td>\n",
              "      <td>41.000000</td>\n",
              "      <td>67091.000000</td>\n",
              "      <td>64006.250000</td>\n",
              "      <td>6.016475e+04</td>\n",
              "      <td>54506.000000</td>\n",
              "      <td>50190.500000</td>\n",
              "      <td>49198.250000</td>\n",
              "      <td>5006.000000</td>\n",
              "      <td>5.000000e+03</td>\n",
              "      <td>4505.00000</td>\n",
              "      <td>4013.250000</td>\n",
              "      <td>4031.500000</td>\n",
              "      <td>4000.000000</td>\n",
              "    </tr>\n",
              "    <tr>\n",
              "      <th>max</th>\n",
              "      <td>1.000000</td>\n",
              "      <td>8.000000</td>\n",
              "      <td>8.000000</td>\n",
              "      <td>8.000000</td>\n",
              "      <td>8.000000</td>\n",
              "      <td>8.000000</td>\n",
              "      <td>8.000000</td>\n",
              "      <td>1000000.000000</td>\n",
              "      <td>79.000000</td>\n",
              "      <td>964511.000000</td>\n",
              "      <td>983931.000000</td>\n",
              "      <td>1.664089e+06</td>\n",
              "      <td>891586.000000</td>\n",
              "      <td>927171.000000</td>\n",
              "      <td>961664.000000</td>\n",
              "      <td>873552.000000</td>\n",
              "      <td>1.684259e+06</td>\n",
              "      <td>896040.00000</td>\n",
              "      <td>621000.000000</td>\n",
              "      <td>426529.000000</td>\n",
              "      <td>528666.000000</td>\n",
              "    </tr>\n",
              "  </tbody>\n",
              "</table>\n",
              "</div>"
            ],
            "text/plain": [
              "            default         PAY_0         PAY_2         PAY_3         PAY_4  \\\n",
              "count  30000.000000  30000.000000  30000.000000  30000.000000  30000.000000   \n",
              "mean       0.221200     -0.016700     -0.133767     -0.166200     -0.220667   \n",
              "std        0.415062      1.123802      1.197186      1.196868      1.169139   \n",
              "min        0.000000     -2.000000     -2.000000     -2.000000     -2.000000   \n",
              "25%        0.000000     -1.000000     -1.000000     -1.000000     -1.000000   \n",
              "50%        0.000000      0.000000      0.000000      0.000000      0.000000   \n",
              "75%        0.000000      0.000000      0.000000      0.000000      0.000000   \n",
              "max        1.000000      8.000000      8.000000      8.000000      8.000000   \n",
              "\n",
              "              PAY_5         PAY_6       LIMIT_BAL           AGE  \\\n",
              "count  30000.000000  30000.000000    30000.000000  30000.000000   \n",
              "mean      -0.266200     -0.291100   167484.322667     35.485500   \n",
              "std        1.133187      1.149988   129747.661567      9.217904   \n",
              "min       -2.000000     -2.000000    10000.000000     21.000000   \n",
              "25%       -1.000000     -1.000000    50000.000000     28.000000   \n",
              "50%        0.000000      0.000000   140000.000000     34.000000   \n",
              "75%        0.000000      0.000000   240000.000000     41.000000   \n",
              "max        8.000000      8.000000  1000000.000000     79.000000   \n",
              "\n",
              "           BILL_AMT1      BILL_AMT2     BILL_AMT3      BILL_AMT4  \\\n",
              "count   30000.000000   30000.000000  3.000000e+04   30000.000000   \n",
              "mean    51223.330900   49179.075167  4.701315e+04   43262.948967   \n",
              "std     73635.860576   71173.768783  6.934939e+04   64332.856134   \n",
              "min   -165580.000000  -69777.000000 -1.572640e+05 -170000.000000   \n",
              "25%      3558.750000    2984.750000  2.666250e+03    2326.750000   \n",
              "50%     22381.500000   21200.000000  2.008850e+04   19052.000000   \n",
              "75%     67091.000000   64006.250000  6.016475e+04   54506.000000   \n",
              "max    964511.000000  983931.000000  1.664089e+06  891586.000000   \n",
              "\n",
              "           BILL_AMT5      BILL_AMT6       PAY_AMT1      PAY_AMT2  \\\n",
              "count   30000.000000   30000.000000   30000.000000  3.000000e+04   \n",
              "mean    40311.400967   38871.760400    5663.580500  5.921163e+03   \n",
              "std     60797.155770   59554.107537   16563.280354  2.304087e+04   \n",
              "min    -81334.000000 -339603.000000       0.000000  0.000000e+00   \n",
              "25%      1763.000000    1256.000000    1000.000000  8.330000e+02   \n",
              "50%     18104.500000   17071.000000    2100.000000  2.009000e+03   \n",
              "75%     50190.500000   49198.250000    5006.000000  5.000000e+03   \n",
              "max    927171.000000  961664.000000  873552.000000  1.684259e+06   \n",
              "\n",
              "           PAY_AMT3       PAY_AMT4       PAY_AMT5       PAY_AMT6  \n",
              "count   30000.00000   30000.000000   30000.000000   30000.000000  \n",
              "mean     5225.68150    4826.076867    4799.387633    5215.502567  \n",
              "std     17606.96147   15666.159744   15278.305679   17777.465775  \n",
              "min         0.00000       0.000000       0.000000       0.000000  \n",
              "25%       390.00000     296.000000     252.500000     117.750000  \n",
              "50%      1800.00000    1500.000000    1500.000000    1500.000000  \n",
              "75%      4505.00000    4013.250000    4031.500000    4000.000000  \n",
              "max    896040.00000  621000.000000  426529.000000  528666.000000  "
            ]
          },
          "metadata": {
            "tags": []
          },
          "execution_count": 21
        }
      ]
    },
    {
      "cell_type": "code",
      "metadata": {
        "id": "pkJ4Rl62mbCy",
        "outputId": "daad6742-2b8f-4384-acc7-8140a58dad93",
        "colab": {
          "base_uri": "https://localhost:8080/",
          "height": 611
        }
      },
      "source": [
        "df_explore.loc[:, discrete_vars].hist(bins=10, figsize=(15,10))\n",
        "plt.show();"
      ],
      "execution_count": 22,
      "outputs": [
        {
          "output_type": "display_data",
          "data": {
            "image/png": "[encoded data removed]",
            "text/plain": [
              "<Figure size 1080x720 with 6 Axes>"
            ]
          },
          "metadata": {
            "tags": [],
            "needs_background": "light"
          }
        }
      ]
    },
    {
      "cell_type": "code",
      "metadata": {
        "id": "NpYUNeEOnGzB"
      },
      "source": [
        "df_explore.loc[:, continuous_vars].hist(bins=50, figsize=(20,15))\n",
        "plt.show();"
      ],
      "execution_count": null,
      "outputs": []
    },
    {
      "cell_type": "code",
      "metadata": {
        "id": "EoRb1YpTnJVQ"
      },
      "source": [
        "df_explore.loc[:, categorical_vars].hist(bins=10, figsize=(15,10))\n",
        "plt.show();"
      ],
      "execution_count": null,
      "outputs": []
    },
    {
      "cell_type": "code",
      "metadata": {
        "id": "Ks35JXPhnK7v"
      },
      "source": [
        "# more imports\n",
        "import seaborn as sns\n",
        "sns.pairplot(data=df_explore.loc[:, dependant_var + continuous_vars]);\n"
      ],
      "execution_count": null,
      "outputs": []
    },
    {
      "cell_type": "code",
      "metadata": {
        "id": "ZQ7f9PU6oNXA",
        "outputId": "b4ff5d36-bcae-4e1c-b455-2032da523e70",
        "colab": {
          "base_uri": "https://localhost:8080/",
          "height": 1000
        }
      },
      "source": [
        "# Df to draw charts for clients that default, default=1\n",
        "df_default = df_explore.where(df_explore['default']==1)\n",
        "df_ok = df_explore.where(df_explore['default']==0)\n",
        "# Plot the density - all cases (green), payed (blue) and default (red)\n",
        "for i, var in enumerate(discrete_vars):\n",
        "    plt.figure(i)\n",
        "    plt.title(var)\n",
        "\n",
        "    plt.hist([df_explore.loc[:, var], df_ok.loc[:, var], df_default.loc[:, var]], density=True, color=['g','b','r'], alpha=0.8);"
      ],
      "execution_count": 8,
      "outputs": [
        {
          "output_type": "display_data",
          "data": {
            "image/png": "[encoded data removed]",
            "text/plain": [
              "<Figure size 432x288 with 1 Axes>"
            ]
          },
          "metadata": {
            "tags": [],
            "needs_background": "light"
          }
        },
        {
          "output_type": "display_data",
          "data": {
            "image/png": "[encoded data removed]",
            "text/plain": [
              "<Figure size 432x288 with 1 Axes>"
            ]
          },
          "metadata": {
            "tags": [],
            "needs_background": "light"
          }
        },
        {
          "output_type": "display_data",
          "data": {
            "image/png": "[encoded data removed]",
            "text/plain": [
              "<Figure size 432x288 with 1 Axes>"
            ]
          },
          "metadata": {
            "tags": [],
            "needs_background": "light"
          }
        },
        {
          "output_type": "display_data",
          "data": {
            "image/png": "[encoded data removed]",
            "text/plain": [
              "<Figure size 432x288 with 1 Axes>"
            ]
          },
          "metadata": {
            "tags": [],
            "needs_background": "light"
          }
        },
        {
          "output_type": "display_data",
          "data": {
            "image/png": "[encoded data removed]",
            "text/plain": [
              "<Figure size 432x288 with 1 Axes>"
            ]
          },
          "metadata": {
            "tags": [],
            "needs_background": "light"
          }
        },
        {
          "output_type": "display_data",
          "data": {
            "image/png": "[encoded data removed]",
            "text/plain": [
              "<Figure size 432x288 with 1 Axes>"
            ]
          },
          "metadata": {
            "tags": [],
            "needs_background": "light"
          }
        }
      ]
    },
    {
      "cell_type": "code",
      "metadata": {
        "id": "FZaTX_q-o81F"
      },
      "source": [
        "# continuous vars\n",
        "for i, var in enumerate(continuous_vars):\n",
        "    plt.figure(i)\n",
        "    plt.title(var)\n",
        "\n",
        "    plt.hist([df_explore.loc[:, var], df_ok.loc[:, var], df_default.loc[:, var]], density=True, color=['g','b','r'], alpha=0.8);"
      ],
      "execution_count": null,
      "outputs": []
    },
    {
      "cell_type": "code",
      "metadata": {
        "id": "vbeLfAEKpQvL"
      },
      "source": [
        "# category variables\n",
        "for i, var in enumerate(categorical_vars):\n",
        "    plt.figure(i)\n",
        "    plt.title(var)\n",
        "\n",
        "    plt.hist([df_explore.loc[:, var], df_ok.loc[:, var], df_default.loc[:, var]], density=True, color=['g','b','r'], alpha=0.8);"
      ],
      "execution_count": null,
      "outputs": []
    },
    {
      "cell_type": "code",
      "metadata": {
        "id": "7Ly2e4X-uBm9"
      },
      "source": [
        "import scipy\n",
        "from sklearn.compose import ColumnTransformer\n",
        "from sklearn.pipeline import Pipeline\n",
        "from sklearn.preprocessing import MinMaxScaler\n",
        "from sklearn.preprocessing import OneHotEncoder\n",
        "from sklearn.model_selection import train_test_split\n",
        "from sklearn.model_selection import StratifiedShuffleSplit\n",
        "\n",
        "def rmse(a, b):\n",
        "    return np.sqrt(np.mean((a-b)**2))\n",
        "pd.options.display.max_columns = None"
      ],
      "execution_count": 9,
      "outputs": []
    },
    {
      "cell_type": "code",
      "metadata": {
        "id": "wIr5dMq0ugb7"
      },
      "source": [
        "# Categorical - one hot encode\n",
        "cat_ohe_step = ('ohe', OneHotEncoder(sparse=False, handle_unknown='ignore'))\n",
        "cat_steps = [cat_ohe_step]\n",
        "cat_pipe = Pipeline(cat_steps)\n",
        "cat_transformers = [('cat', cat_pipe, categorical_vars)]"
      ],
      "execution_count": 10,
      "outputs": []
    },
    {
      "cell_type": "code",
      "metadata": {
        "id": "H0bRoBjju19X"
      },
      "source": [
        "# Numerical - scale\n",
        "num_scl_step = ('scl', MinMaxScaler())\n",
        "num_steps = [num_scl_step]\n",
        "num_pipe = Pipeline(num_steps)\n",
        "num_transformers = [('num', num_pipe, continuous_vars + discrete_vars)]"
      ],
      "execution_count": 11,
      "outputs": []
    },
    {
      "cell_type": "code",
      "metadata": {
        "id": "ONz6oElpvJQy",
        "outputId": "133321e6-87e1-4d24-9af6-415e1b0f95bc",
        "colab": {
          "base_uri": "https://localhost:8080/"
        }
      },
      "source": [
        "%%time\n",
        "ct = ColumnTransformer(transformers=cat_transformers + num_transformers)\n",
        "ct.fit(df[categorical_vars + continuous_vars  + discrete_vars])\n",
        "X = ct.transform(df[categorical_vars + continuous_vars + discrete_vars])\n",
        "y = df[['default']].values"
      ],
      "execution_count": 12,
      "outputs": [
        {
          "output_type": "stream",
          "text": [
            "CPU times: user 44.1 ms, sys: 6.04 ms, total: 50.1 ms\n",
            "Wall time: 52 ms\n"
          ],
          "name": "stdout"
        }
      ]
    },
    {
      "cell_type": "code",
      "metadata": {
        "id": "ZFCxdngtvbVo",
        "outputId": "cc561dcc-167d-4142-911b-d02d9b24fb90",
        "colab": {
          "base_uri": "https://localhost:8080/",
          "height": 317
        }
      },
      "source": [
        "df_describe = pd.DataFrame(X)\n",
        "df_describe.describe()"
      ],
      "execution_count": 27,
      "outputs": [
        {
          "output_type": "execute_result",
          "data": {
            "text/html": [
              "<div>\n",
              "<style scoped>\n",
              "    .dataframe tbody tr th:only-of-type {\n",
              "        vertical-align: middle;\n",
              "    }\n",
              "\n",
              "    .dataframe tbody tr th {\n",
              "        vertical-align: top;\n",
              "    }\n",
              "\n",
              "    .dataframe thead th {\n",
              "        text-align: right;\n",
              "    }\n",
              "</style>\n",
              "<table border=\"1\" class=\"dataframe\">\n",
              "  <thead>\n",
              "    <tr style=\"text-align: right;\">\n",
              "      <th></th>\n",
              "      <th>0</th>\n",
              "      <th>1</th>\n",
              "      <th>2</th>\n",
              "      <th>3</th>\n",
              "      <th>4</th>\n",
              "      <th>5</th>\n",
              "      <th>6</th>\n",
              "      <th>7</th>\n",
              "      <th>8</th>\n",
              "      <th>9</th>\n",
              "      <th>10</th>\n",
              "      <th>11</th>\n",
              "      <th>12</th>\n",
              "      <th>13</th>\n",
              "      <th>14</th>\n",
              "      <th>15</th>\n",
              "      <th>16</th>\n",
              "      <th>17</th>\n",
              "      <th>18</th>\n",
              "      <th>19</th>\n",
              "      <th>20</th>\n",
              "      <th>21</th>\n",
              "      <th>22</th>\n",
              "      <th>23</th>\n",
              "      <th>24</th>\n",
              "      <th>25</th>\n",
              "      <th>26</th>\n",
              "      <th>27</th>\n",
              "      <th>28</th>\n",
              "      <th>29</th>\n",
              "      <th>30</th>\n",
              "      <th>31</th>\n",
              "      <th>32</th>\n",
              "    </tr>\n",
              "  </thead>\n",
              "  <tbody>\n",
              "    <tr>\n",
              "      <th>count</th>\n",
              "      <td>30000.000000</td>\n",
              "      <td>30000.000000</td>\n",
              "      <td>30000.000000</td>\n",
              "      <td>30000.000000</td>\n",
              "      <td>30000.000000</td>\n",
              "      <td>30000.000000</td>\n",
              "      <td>30000.000000</td>\n",
              "      <td>30000.000000</td>\n",
              "      <td>30000.000000</td>\n",
              "      <td>30000.000000</td>\n",
              "      <td>30000.000000</td>\n",
              "      <td>30000.000000</td>\n",
              "      <td>30000.000000</td>\n",
              "      <td>30000.000000</td>\n",
              "      <td>30000.000000</td>\n",
              "      <td>30000.000000</td>\n",
              "      <td>30000.000000</td>\n",
              "      <td>30000.000000</td>\n",
              "      <td>30000.000000</td>\n",
              "      <td>30000.000000</td>\n",
              "      <td>30000.000000</td>\n",
              "      <td>30000.000000</td>\n",
              "      <td>30000.000000</td>\n",
              "      <td>30000.000000</td>\n",
              "      <td>30000.000000</td>\n",
              "      <td>30000.000000</td>\n",
              "      <td>30000.000000</td>\n",
              "      <td>30000.00000</td>\n",
              "      <td>30000.000000</td>\n",
              "      <td>30000.000000</td>\n",
              "      <td>30000.000000</td>\n",
              "      <td>30000.000000</td>\n",
              "      <td>30000.000000</td>\n",
              "    </tr>\n",
              "    <tr>\n",
              "      <th>mean</th>\n",
              "      <td>0.396267</td>\n",
              "      <td>0.603733</td>\n",
              "      <td>0.000467</td>\n",
              "      <td>0.352833</td>\n",
              "      <td>0.467667</td>\n",
              "      <td>0.163900</td>\n",
              "      <td>0.004100</td>\n",
              "      <td>0.009333</td>\n",
              "      <td>0.001700</td>\n",
              "      <td>0.001800</td>\n",
              "      <td>0.455300</td>\n",
              "      <td>0.532133</td>\n",
              "      <td>0.010767</td>\n",
              "      <td>0.159075</td>\n",
              "      <td>0.249750</td>\n",
              "      <td>0.191846</td>\n",
              "      <td>0.112893</td>\n",
              "      <td>0.112157</td>\n",
              "      <td>0.200891</td>\n",
              "      <td>0.120620</td>\n",
              "      <td>0.290851</td>\n",
              "      <td>0.006483</td>\n",
              "      <td>0.003516</td>\n",
              "      <td>0.005832</td>\n",
              "      <td>0.007771</td>\n",
              "      <td>0.011252</td>\n",
              "      <td>0.009865</td>\n",
              "      <td>0.19833</td>\n",
              "      <td>0.186623</td>\n",
              "      <td>0.183380</td>\n",
              "      <td>0.177933</td>\n",
              "      <td>0.173380</td>\n",
              "      <td>0.170890</td>\n",
              "    </tr>\n",
              "    <tr>\n",
              "      <th>std</th>\n",
              "      <td>0.489129</td>\n",
              "      <td>0.489129</td>\n",
              "      <td>0.021598</td>\n",
              "      <td>0.477859</td>\n",
              "      <td>0.498962</td>\n",
              "      <td>0.370191</td>\n",
              "      <td>0.063901</td>\n",
              "      <td>0.096159</td>\n",
              "      <td>0.041197</td>\n",
              "      <td>0.042389</td>\n",
              "      <td>0.498006</td>\n",
              "      <td>0.498975</td>\n",
              "      <td>0.103204</td>\n",
              "      <td>0.131058</td>\n",
              "      <td>0.158929</td>\n",
              "      <td>0.065159</td>\n",
              "      <td>0.067546</td>\n",
              "      <td>0.038076</td>\n",
              "      <td>0.060601</td>\n",
              "      <td>0.060284</td>\n",
              "      <td>0.045766</td>\n",
              "      <td>0.018961</td>\n",
              "      <td>0.013680</td>\n",
              "      <td>0.019650</td>\n",
              "      <td>0.025227</td>\n",
              "      <td>0.035820</td>\n",
              "      <td>0.033627</td>\n",
              "      <td>0.11238</td>\n",
              "      <td>0.119719</td>\n",
              "      <td>0.119687</td>\n",
              "      <td>0.116914</td>\n",
              "      <td>0.113319</td>\n",
              "      <td>0.114999</td>\n",
              "    </tr>\n",
              "    <tr>\n",
              "      <th>min</th>\n",
              "      <td>0.000000</td>\n",
              "      <td>0.000000</td>\n",
              "      <td>0.000000</td>\n",
              "      <td>0.000000</td>\n",
              "      <td>0.000000</td>\n",
              "      <td>0.000000</td>\n",
              "      <td>0.000000</td>\n",
              "      <td>0.000000</td>\n",
              "      <td>0.000000</td>\n",
              "      <td>0.000000</td>\n",
              "      <td>0.000000</td>\n",
              "      <td>0.000000</td>\n",
              "      <td>0.000000</td>\n",
              "      <td>0.000000</td>\n",
              "      <td>0.000000</td>\n",
              "      <td>0.000000</td>\n",
              "      <td>0.000000</td>\n",
              "      <td>0.000000</td>\n",
              "      <td>0.000000</td>\n",
              "      <td>0.000000</td>\n",
              "      <td>0.000000</td>\n",
              "      <td>0.000000</td>\n",
              "      <td>0.000000</td>\n",
              "      <td>0.000000</td>\n",
              "      <td>0.000000</td>\n",
              "      <td>0.000000</td>\n",
              "      <td>0.000000</td>\n",
              "      <td>0.00000</td>\n",
              "      <td>0.000000</td>\n",
              "      <td>0.000000</td>\n",
              "      <td>0.000000</td>\n",
              "      <td>0.000000</td>\n",
              "      <td>0.000000</td>\n",
              "    </tr>\n",
              "    <tr>\n",
              "      <th>25%</th>\n",
              "      <td>0.000000</td>\n",
              "      <td>0.000000</td>\n",
              "      <td>0.000000</td>\n",
              "      <td>0.000000</td>\n",
              "      <td>0.000000</td>\n",
              "      <td>0.000000</td>\n",
              "      <td>0.000000</td>\n",
              "      <td>0.000000</td>\n",
              "      <td>0.000000</td>\n",
              "      <td>0.000000</td>\n",
              "      <td>0.000000</td>\n",
              "      <td>0.000000</td>\n",
              "      <td>0.000000</td>\n",
              "      <td>0.040404</td>\n",
              "      <td>0.120690</td>\n",
              "      <td>0.149668</td>\n",
              "      <td>0.069053</td>\n",
              "      <td>0.087808</td>\n",
              "      <td>0.162330</td>\n",
              "      <td>0.082396</td>\n",
              "      <td>0.261944</td>\n",
              "      <td>0.001145</td>\n",
              "      <td>0.000495</td>\n",
              "      <td>0.000435</td>\n",
              "      <td>0.000477</td>\n",
              "      <td>0.000592</td>\n",
              "      <td>0.000223</td>\n",
              "      <td>0.10000</td>\n",
              "      <td>0.100000</td>\n",
              "      <td>0.100000</td>\n",
              "      <td>0.100000</td>\n",
              "      <td>0.100000</td>\n",
              "      <td>0.100000</td>\n",
              "    </tr>\n",
              "    <tr>\n",
              "      <th>50%</th>\n",
              "      <td>0.000000</td>\n",
              "      <td>1.000000</td>\n",
              "      <td>0.000000</td>\n",
              "      <td>0.000000</td>\n",
              "      <td>0.000000</td>\n",
              "      <td>0.000000</td>\n",
              "      <td>0.000000</td>\n",
              "      <td>0.000000</td>\n",
              "      <td>0.000000</td>\n",
              "      <td>0.000000</td>\n",
              "      <td>0.000000</td>\n",
              "      <td>1.000000</td>\n",
              "      <td>0.000000</td>\n",
              "      <td>0.131313</td>\n",
              "      <td>0.224138</td>\n",
              "      <td>0.166324</td>\n",
              "      <td>0.086340</td>\n",
              "      <td>0.097374</td>\n",
              "      <td>0.178084</td>\n",
              "      <td>0.098600</td>\n",
              "      <td>0.274097</td>\n",
              "      <td>0.002404</td>\n",
              "      <td>0.001193</td>\n",
              "      <td>0.002009</td>\n",
              "      <td>0.002415</td>\n",
              "      <td>0.003517</td>\n",
              "      <td>0.002837</td>\n",
              "      <td>0.20000</td>\n",
              "      <td>0.200000</td>\n",
              "      <td>0.200000</td>\n",
              "      <td>0.200000</td>\n",
              "      <td>0.200000</td>\n",
              "      <td>0.200000</td>\n",
              "    </tr>\n",
              "    <tr>\n",
              "      <th>75%</th>\n",
              "      <td>1.000000</td>\n",
              "      <td>1.000000</td>\n",
              "      <td>0.000000</td>\n",
              "      <td>1.000000</td>\n",
              "      <td>1.000000</td>\n",
              "      <td>0.000000</td>\n",
              "      <td>0.000000</td>\n",
              "      <td>0.000000</td>\n",
              "      <td>0.000000</td>\n",
              "      <td>0.000000</td>\n",
              "      <td>1.000000</td>\n",
              "      <td>1.000000</td>\n",
              "      <td>0.000000</td>\n",
              "      <td>0.232323</td>\n",
              "      <td>0.344828</td>\n",
              "      <td>0.205887</td>\n",
              "      <td>0.126964</td>\n",
              "      <td>0.119378</td>\n",
              "      <td>0.211482</td>\n",
              "      <td>0.130415</td>\n",
              "      <td>0.298787</td>\n",
              "      <td>0.005731</td>\n",
              "      <td>0.002969</td>\n",
              "      <td>0.005028</td>\n",
              "      <td>0.006463</td>\n",
              "      <td>0.009452</td>\n",
              "      <td>0.007566</td>\n",
              "      <td>0.20000</td>\n",
              "      <td>0.200000</td>\n",
              "      <td>0.200000</td>\n",
              "      <td>0.200000</td>\n",
              "      <td>0.200000</td>\n",
              "      <td>0.200000</td>\n",
              "    </tr>\n",
              "    <tr>\n",
              "      <th>max</th>\n",
              "      <td>1.000000</td>\n",
              "      <td>1.000000</td>\n",
              "      <td>1.000000</td>\n",
              "      <td>1.000000</td>\n",
              "      <td>1.000000</td>\n",
              "      <td>1.000000</td>\n",
              "      <td>1.000000</td>\n",
              "      <td>1.000000</td>\n",
              "      <td>1.000000</td>\n",
              "      <td>1.000000</td>\n",
              "      <td>1.000000</td>\n",
              "      <td>1.000000</td>\n",
              "      <td>1.000000</td>\n",
              "      <td>1.000000</td>\n",
              "      <td>1.000000</td>\n",
              "      <td>1.000000</td>\n",
              "      <td>1.000000</td>\n",
              "      <td>1.000000</td>\n",
              "      <td>1.000000</td>\n",
              "      <td>1.000000</td>\n",
              "      <td>1.000000</td>\n",
              "      <td>1.000000</td>\n",
              "      <td>1.000000</td>\n",
              "      <td>1.000000</td>\n",
              "      <td>1.000000</td>\n",
              "      <td>1.000000</td>\n",
              "      <td>1.000000</td>\n",
              "      <td>1.00000</td>\n",
              "      <td>1.000000</td>\n",
              "      <td>1.000000</td>\n",
              "      <td>1.000000</td>\n",
              "      <td>1.000000</td>\n",
              "      <td>1.000000</td>\n",
              "    </tr>\n",
              "  </tbody>\n",
              "</table>\n",
              "</div>"
            ],
            "text/plain": [
              "                 0             1             2             3             4   \\\n",
              "count  30000.000000  30000.000000  30000.000000  30000.000000  30000.000000   \n",
              "mean       0.396267      0.603733      0.000467      0.352833      0.467667   \n",
              "std        0.489129      0.489129      0.021598      0.477859      0.498962   \n",
              "min        0.000000      0.000000      0.000000      0.000000      0.000000   \n",
              "25%        0.000000      0.000000      0.000000      0.000000      0.000000   \n",
              "50%        0.000000      1.000000      0.000000      0.000000      0.000000   \n",
              "75%        1.000000      1.000000      0.000000      1.000000      1.000000   \n",
              "max        1.000000      1.000000      1.000000      1.000000      1.000000   \n",
              "\n",
              "                 5             6             7             8             9   \\\n",
              "count  30000.000000  30000.000000  30000.000000  30000.000000  30000.000000   \n",
              "mean       0.163900      0.004100      0.009333      0.001700      0.001800   \n",
              "std        0.370191      0.063901      0.096159      0.041197      0.042389   \n",
              "min        0.000000      0.000000      0.000000      0.000000      0.000000   \n",
              "25%        0.000000      0.000000      0.000000      0.000000      0.000000   \n",
              "50%        0.000000      0.000000      0.000000      0.000000      0.000000   \n",
              "75%        0.000000      0.000000      0.000000      0.000000      0.000000   \n",
              "max        1.000000      1.000000      1.000000      1.000000      1.000000   \n",
              "\n",
              "                 10            11            12            13            14  \\\n",
              "count  30000.000000  30000.000000  30000.000000  30000.000000  30000.000000   \n",
              "mean       0.455300      0.532133      0.010767      0.159075      0.249750   \n",
              "std        0.498006      0.498975      0.103204      0.131058      0.158929   \n",
              "min        0.000000      0.000000      0.000000      0.000000      0.000000   \n",
              "25%        0.000000      0.000000      0.000000      0.040404      0.120690   \n",
              "50%        0.000000      1.000000      0.000000      0.131313      0.224138   \n",
              "75%        1.000000      1.000000      0.000000      0.232323      0.344828   \n",
              "max        1.000000      1.000000      1.000000      1.000000      1.000000   \n",
              "\n",
              "                 15            16            17            18            19  \\\n",
              "count  30000.000000  30000.000000  30000.000000  30000.000000  30000.000000   \n",
              "mean       0.191846      0.112893      0.112157      0.200891      0.120620   \n",
              "std        0.065159      0.067546      0.038076      0.060601      0.060284   \n",
              "min        0.000000      0.000000      0.000000      0.000000      0.000000   \n",
              "25%        0.149668      0.069053      0.087808      0.162330      0.082396   \n",
              "50%        0.166324      0.086340      0.097374      0.178084      0.098600   \n",
              "75%        0.205887      0.126964      0.119378      0.211482      0.130415   \n",
              "max        1.000000      1.000000      1.000000      1.000000      1.000000   \n",
              "\n",
              "                 20            21            22            23            24  \\\n",
              "count  30000.000000  30000.000000  30000.000000  30000.000000  30000.000000   \n",
              "mean       0.290851      0.006483      0.003516      0.005832      0.007771   \n",
              "std        0.045766      0.018961      0.013680      0.019650      0.025227   \n",
              "min        0.000000      0.000000      0.000000      0.000000      0.000000   \n",
              "25%        0.261944      0.001145      0.000495      0.000435      0.000477   \n",
              "50%        0.274097      0.002404      0.001193      0.002009      0.002415   \n",
              "75%        0.298787      0.005731      0.002969      0.005028      0.006463   \n",
              "max        1.000000      1.000000      1.000000      1.000000      1.000000   \n",
              "\n",
              "                 25            26           27            28            29  \\\n",
              "count  30000.000000  30000.000000  30000.00000  30000.000000  30000.000000   \n",
              "mean       0.011252      0.009865      0.19833      0.186623      0.183380   \n",
              "std        0.035820      0.033627      0.11238      0.119719      0.119687   \n",
              "min        0.000000      0.000000      0.00000      0.000000      0.000000   \n",
              "25%        0.000592      0.000223      0.10000      0.100000      0.100000   \n",
              "50%        0.003517      0.002837      0.20000      0.200000      0.200000   \n",
              "75%        0.009452      0.007566      0.20000      0.200000      0.200000   \n",
              "max        1.000000      1.000000      1.00000      1.000000      1.000000   \n",
              "\n",
              "                 30            31            32  \n",
              "count  30000.000000  30000.000000  30000.000000  \n",
              "mean       0.177933      0.173380      0.170890  \n",
              "std        0.116914      0.113319      0.114999  \n",
              "min        0.000000      0.000000      0.000000  \n",
              "25%        0.100000      0.100000      0.100000  \n",
              "50%        0.200000      0.200000      0.200000  \n",
              "75%        0.200000      0.200000      0.200000  \n",
              "max        1.000000      1.000000      1.000000  "
            ]
          },
          "metadata": {
            "tags": []
          },
          "execution_count": 27
        }
      ]
    },
    {
      "cell_type": "code",
      "metadata": {
        "id": "99G3M4t_vurJ",
        "outputId": "3530951d-8dea-4f53-8858-cc812e7c527d",
        "colab": {
          "base_uri": "https://localhost:8080/"
        }
      },
      "source": [
        "%%time\n",
        "X_train, X_test, y_train, y_test = train_test_split(X, y, test_size=0.2, random_state=123, stratify=y)\n",
        "print(X_train.shape, X_test.shape, y_train.shape, y_test.shape)"
      ],
      "execution_count": 13,
      "outputs": [
        {
          "output_type": "stream",
          "text": [
            "(24000, 33) (6000, 33) (24000, 1) (6000, 1)\n",
            "CPU times: user 143 ms, sys: 3.33 ms, total: 146 ms\n",
            "Wall time: 154 ms\n"
          ],
          "name": "stdout"
        }
      ]
    },
    {
      "cell_type": "markdown",
      "metadata": {
        "id": "W6OjTAJ5v1VF"
      },
      "source": [
        "## **The model**\n",
        "It will be a supervised ML problem, with dependant variable \"default\".\n",
        "The response variable is binary (1 or 0), the type of the model will be classification."
      ]
    },
    {
      "cell_type": "code",
      "metadata": {
        "id": "wfFG2ftwxP1u"
      },
      "source": [
        "from sklearn.ensemble import RandomForestClassifier\n",
        "from sklearn.neighbors import KNeighborsClassifier\n",
        "\n",
        "def display_results(model, X, y):\n",
        "    print(\"RMSE:\", rmse(model.predict(X), y))\n",
        "    print(\"Predicted 1-5:\", model.predict(X_test[0:5]))\n",
        "    print(\"Actual 1-5:\", y_test[0:5, 0])"
      ],
      "execution_count": 14,
      "outputs": []
    },
    {
      "cell_type": "markdown",
      "metadata": {
        "id": "dEe-z0ZcxVHv"
      },
      "source": [
        "## Random Forrest Classifier\n",
        "\n",
        "use hyperparameter tuning and try to tun only n_estimators with these values {3, 4, 6, 7, 10, 20, 50, 100}"
      ]
    },
    {
      "cell_type": "code",
      "metadata": {
        "id": "pcHGINsXxTSe",
        "outputId": "ce1cc65b-67e8-4cd5-bc08-74eb98f06ec8",
        "colab": {
          "base_uri": "https://localhost:8080/"
        }
      },
      "source": [
        "%%time\n",
        "for n_est in [3]:\n",
        "    rf = RandomForestClassifier(n_estimators=n_est, random_state=123)\n",
        "    rf.fit(X_train, np.ravel(y_train))\n",
        "    print('----- Number of estimators:' + str(n_est) + '-------------')\n",
        "    display_results(rf, X, y)"
      ],
      "execution_count": null,
      "outputs": [
        {
          "output_type": "stream",
          "text": [
            "----- Number of estimators:3-------------\n"
          ],
          "name": "stdout"
        }
      ]
    },
    {
      "cell_type": "markdown",
      "metadata": {
        "id": "SvRFeCBXwiaq"
      },
      "source": [
        "## Study the ROC Curve, decide threshold\n",
        "Use 2 classifiers.\n",
        "\n",
        "a. Random Forest\n",
        "\n",
        "  - tune only: n_estimators: {4, 5, 10, 20, 50}.  We will be running random forest model using GridSearchCV, determine the best hyperparameter for the given list of n_estimators {4, 5, 10, 20, 50}. n_estimators refers to the number of trees in the forest. We will use CV = 5 and the scoring to be the roc_auc (area under the curve)\n",
        "\n",
        "b. KNN Classfier\n",
        "\n",
        "  - tune only: n_neighbors: {3, 5, 10, 20}. You may perform similar GridSearchCV as in the previous exercise with a given list of n_neightbors. "
      ]
    },
    {
      "cell_type": "code",
      "metadata": {
        "id": "vD9KBpNBw4_y"
      },
      "source": [
        "from sklearn.model_selection import GridSearchCV"
      ],
      "execution_count": 46,
      "outputs": []
    },
    {
      "cell_type": "code",
      "metadata": {
        "id": "hX_1nHRIw9E7",
        "outputId": "3372022e-4727-449b-c522-3db96c626bea",
        "colab": {
          "base_uri": "https://localhost:8080/",
          "height": 232
        }
      },
      "source": [
        "# we create a dictionary of lists, each key is a parameter name\n",
        "# and the list is the possible values it can take\n",
        "\n",
        "param_grid = {\n",
        "    'n_estimators':[4, 5, 10, 20, 50]\n",
        "}\n",
        "\n",
        "clf = RandomForestClassifier(n_estimators =  50, random_state = 123)\n",
        "# we pass the model, our parameter grid, and cross-validation parameters to the class\n",
        "grid_search = GridSearchCV(estimator=clf, \n",
        "                           param_grid=param_grid,\n",
        "                           scoring='neg_mean_squared_error',\n",
        "                           cv=5)\n",
        "# last, we fit our data. This will take a while...\n",
        "grid_search.fit(X=X, y=np.ravel(y))"
      ],
      "execution_count": 48,
      "outputs": [
        {
          "output_type": "error",
          "ename": "NameError",
          "evalue": "ignored",
          "traceback": [
            "\u001b[0;31m---------------------------------------------------------------------------\u001b[0m",
            "\u001b[0;31mNameError\u001b[0m                                 Traceback (most recent call last)",
            "\u001b[0;32m<ipython-input-48-2e4fb95ca79e>\u001b[0m in \u001b[0;36m<module>\u001b[0;34m()\u001b[0m\n\u001b[1;32m      6\u001b[0m }\n\u001b[1;32m      7\u001b[0m \u001b[0;34m\u001b[0m\u001b[0m\n\u001b[0;32m----> 8\u001b[0;31m \u001b[0mclf\u001b[0m \u001b[0;34m=\u001b[0m \u001b[0mRandomForestClassifier\u001b[0m\u001b[0;34m(\u001b[0m\u001b[0mn_estimators\u001b[0m \u001b[0;34m=\u001b[0m  \u001b[0;36m50\u001b[0m\u001b[0;34m,\u001b[0m \u001b[0mrandom_state\u001b[0m \u001b[0;34m=\u001b[0m \u001b[0;36m123\u001b[0m\u001b[0;34m)\u001b[0m\u001b[0;34m\u001b[0m\u001b[0;34m\u001b[0m\u001b[0m\n\u001b[0m\u001b[1;32m      9\u001b[0m \u001b[0;31m# we pass the model, our parameter grid, and cross-validation parameters to the class\u001b[0m\u001b[0;34m\u001b[0m\u001b[0;34m\u001b[0m\u001b[0;34m\u001b[0m\u001b[0m\n\u001b[1;32m     10\u001b[0m grid_search = GridSearchCV(estimator=clf, \n",
            "\u001b[0;31mNameError\u001b[0m: name 'RandomForestClassifier' is not defined"
          ]
        }
      ]
    },
    {
      "cell_type": "code",
      "metadata": {
        "id": "LubyH_gmwKAw",
        "outputId": "ff7c3956-8ddc-4e10-dc3e-8cbab97fa9d1",
        "colab": {
          "base_uri": "https://localhost:8080/",
          "height": 232
        }
      },
      "source": [
        "# Trying out ROC\n",
        "from sklearn.metrics import roc_curve\n",
        "from sklearn.metrics import roc_auc_score\n",
        "from matplotlib import pyplot\n",
        "from sklearn.metrics import accuracy_score, confusion_matrix\n",
        "\n",
        "# roc curve and auc\n",
        "\n",
        "# fit a model\n",
        "model = final_model_rf\n",
        "model.fit(X_train, np.ravel(y_train))\n",
        "\n",
        "# predict probabilities\n",
        "rf_probs = model.predict_proba(X_test)\n",
        "\n",
        "# keep probabilities for the positive outcome only\n",
        "rf_probs = rf_probs[:, 1]\n",
        "# calculate scores\n",
        "\n",
        "rf_auc = roc_auc_score(y_test, rf_probs)\n",
        "# summarize scores\n",
        "print(' Random forest: ROC AUC=%.3f' % (rf_auc))\n",
        "\n",
        "# calculate roc curve\n",
        "rf_fpr, rf_tpr, thresholds = roc_curve(y_test, rf_probs)\n",
        "#print('Thresholds', thresholds)\n",
        "\n",
        "# plot the roc curve for the model\n",
        "pyplot.plot(rf_fpr, rf_tpr, marker='.', label='Random Forest: ROC Curve')\n",
        "# axis labels\n",
        "pyplot.xlabel('False Positive Rate')\n",
        "pyplot.ylabel('True Positive Rate')\n",
        "\n",
        "# show the legend\n",
        "pyplot.legend(loc=4)\n",
        "# show the plot\n",
        "pyplot.show()"
      ],
      "execution_count": 43,
      "outputs": [
        {
          "output_type": "error",
          "ename": "NameError",
          "evalue": "ignored",
          "traceback": [
            "\u001b[0;31m---------------------------------------------------------------------------\u001b[0m",
            "\u001b[0;31mNameError\u001b[0m                                 Traceback (most recent call last)",
            "\u001b[0;32m<ipython-input-43-07b4b168f6e6>\u001b[0m in \u001b[0;36m<module>\u001b[0;34m()\u001b[0m\n\u001b[1;32m      8\u001b[0m \u001b[0;34m\u001b[0m\u001b[0m\n\u001b[1;32m      9\u001b[0m \u001b[0;31m# fit a model\u001b[0m\u001b[0;34m\u001b[0m\u001b[0;34m\u001b[0m\u001b[0;34m\u001b[0m\u001b[0m\n\u001b[0;32m---> 10\u001b[0;31m \u001b[0mmodel\u001b[0m \u001b[0;34m=\u001b[0m \u001b[0mfinal_model_rf\u001b[0m\u001b[0;34m\u001b[0m\u001b[0;34m\u001b[0m\u001b[0m\n\u001b[0m\u001b[1;32m     11\u001b[0m \u001b[0mmodel\u001b[0m\u001b[0;34m.\u001b[0m\u001b[0mfit\u001b[0m\u001b[0;34m(\u001b[0m\u001b[0mX_train\u001b[0m\u001b[0;34m,\u001b[0m \u001b[0mnp\u001b[0m\u001b[0;34m.\u001b[0m\u001b[0mravel\u001b[0m\u001b[0;34m(\u001b[0m\u001b[0my_train\u001b[0m\u001b[0;34m)\u001b[0m\u001b[0;34m)\u001b[0m\u001b[0;34m\u001b[0m\u001b[0;34m\u001b[0m\u001b[0m\n\u001b[1;32m     12\u001b[0m \u001b[0;34m\u001b[0m\u001b[0m\n",
            "\u001b[0;31mNameError\u001b[0m: name 'final_model_rf' is not defined"
          ]
        }
      ]
    },
    {
      "cell_type": "code",
      "metadata": {
        "id": "VMkflm9Ay-UV"
      },
      "source": [
        "max(df.loc[:,\"PAY_0\"])"
      ],
      "execution_count": null,
      "outputs": []
    },
    {
      "cell_type": "code",
      "metadata": {
        "id": "Yghzvq0VR24i"
      },
      "source": [
        "# Cross-validation with 5-folds\n",
        "#Did you get different results compared to the 4-fold case?"
      ],
      "execution_count": null,
      "outputs": []
    },
    {
      "cell_type": "markdown",
      "metadata": {
        "id": "C3HDtUyzR24j"
      },
      "source": [
        "#### Conclusions?"
      ]
    },
    {
      "cell_type": "markdown",
      "metadata": {
        "id": "dzyM49VVR24k"
      },
      "source": [
        "Explain your results and choices"
      ]
    },
    {
      "cell_type": "code",
      "metadata": {
        "id": "uZNssFNgR24l"
      },
      "source": [
        ""
      ],
      "execution_count": null,
      "outputs": []
    },
    {
      "cell_type": "markdown",
      "metadata": {
        "id": "x-6LCux9R24o"
      },
      "source": [
        "Q2. (Optional) Write a function that can shift an MNIST image in any direction (left, right, up, or down) by one pixel. Then, for each image in the training set, create four shifted copies (one per direction) and add them to the training set. Finally, train your best model on this expanded training set and measure its accuracy on the test set. You should observe that your model performs even better now! This technique of artificially growing the training set is called data augmentation or training set expansion. "
      ]
    },
    {
      "cell_type": "markdown",
      "metadata": {
        "id": "E5UGBa2AR24o"
      },
      "source": [
        "### Conclusions\n"
      ]
    },
    {
      "cell_type": "code",
      "metadata": {
        "id": "hBBG-JBHR24o"
      },
      "source": [
        ""
      ],
      "execution_count": null,
      "outputs": []
    }
  ]
}