{
  "nbformat": 4,
  "nbformat_minor": 0,
  "metadata": {
    "colab": {
      "name": "Copy of Week 3 Assignment.ipynb",
      "provenance": [],
      "collapsed_sections": [],
      "machine_shape": "hm",
      "include_colab_link": true
    },
    "kernelspec": {
      "display_name": "Python [conda root]",
      "language": "python",
      "name": "conda-root-py"
    }
  },
  "cells": [
    {
      "cell_type": "markdown",
      "metadata": {
        "id": "view-in-github",
        "colab_type": "text"
      },
      "source": [
        "<a href=\"https://colab.research.google.com/github/conste11ations/ml3253-2021/blob/main/Week_3_Assignment.ipynb\" target=\"_parent\"><img src=\"https://colab.research.google.com/assets/colab-badge.svg\" alt=\"Open In Colab\"/></a>"
      ]
    },
    {
      "cell_type": "markdown",
      "metadata": {
        "id": "yA-tG2tC-OW6"
      },
      "source": [
        "# Welcome to Assignment 3\n",
        "\n",
        "## In this weeek you are building a classification model using credit card client dataset. Once you run below code, you can submit your response on the Quercus platform."
      ]
    },
    {
      "cell_type": "code",
      "metadata": {
        "id": "Os8UEIgdR24Y"
      },
      "source": [
        "import numpy as np\n",
        "import pandas as pd\n",
        "\n",
        "# to make this notebook's output stable across runs\n",
        "np.random.seed(123)\n",
        "\n",
        "# To plot pretty figures\n",
        "%matplotlib inline\n",
        "import matplotlib\n",
        "import matplotlib.pyplot as plt\n",
        "plt.rcParams['axes.labelsize'] = 14\n",
        "plt.rcParams['xtick.labelsize'] = 12\n",
        "plt.rcParams['ytick.labelsize'] = 12"
      ],
      "execution_count": 30,
      "outputs": []
    },
    {
      "cell_type": "markdown",
      "metadata": {
        "id": "T0z7V3gOR24c"
      },
      "source": [
        "### Classification"
      ]
    },
    {
      "cell_type": "markdown",
      "metadata": {
        "id": "35cWOhAO6ZBo"
      },
      "source": [
        "<pre>\n",
        "X1: Amount of the given credit (NT dollar): it includes both the individual consumer credit and his/her family (supplementary) credit.\n",
        "\n",
        "X2: Gender (1 = male; 2 = female).\n",
        "\n",
        "X3: Education (1 = graduate school; 2 = university; 3 = high school; 0, 4, 5, 6 = others).\n",
        "\n",
        "X4: Marital status (1 = married; 2 = single; 3 = divorce; 0=others).\n",
        "\n",
        "X5: Age (year).\n",
        "\n",
        "X6 - X11: History of past payment. We tracked the past monthly payment records (from April to September, 2005) as follows: \n",
        "\n",
        "X6 : the repayment status in September, 2005;\n",
        "X7 : the repayment status in August, 2005; . . .;X11 : the repayment status in April, 2005. \n",
        "\n",
        "The measurement scale for the repayment status is:\n",
        "\n",
        "-2: No consumption; \n",
        "-1: Paid in full;\n",
        " 0: The use of revolving credit; \n",
        " 1: payment delay for one month; \n",
        " 2: payment delay for two months; . . .; 8 = payment delay for eight months; \n",
        " 9: payment delay for nine months and above.\n",
        "\n",
        "X12-X17: Amount of bill statement (NT dollar). \n",
        "X12 : amount of bill statement in September, 2005; \n",
        "X13 : amount of bill statement in August, 2005; . . .; X17 : amount of bill statement in April, 2005.\n",
        "\n",
        "X18-X23: Amount of previous payment (NT dollar). \n",
        "X18 : amount paid in September, 2005; \n",
        "X19 : amount paid in August, 2005; . . .;X23 : amount paid in April, 2005.\n",
        "\n",
        "Y: client's behavior; Y=0 then not default, Y=1 then default \n",
        "</pre>"
      ]
    },
    {
      "cell_type": "markdown",
      "metadata": {
        "id": "g1G_cA64R24d"
      },
      "source": [
        "Q1. Build a classification model for the default of credit card clients dataset. More info here:\n",
        "https://archive.ics.uci.edu/ml/datasets/default+of+credit+card+clients\n",
        "\n",
        "- Explore the data\n",
        "- Make sure you build a full data pipeline (Pipeline is part of learning during assignment. There are tons of freely available contents you can use, including this [video](https://www.youtube.com/watch?v=Om_TFrFGotQ) and [this](https://scikit-learn.org/stable/modules/generated/sklearn.pipeline.Pipeline.html) one from SKLearn )\n",
        "- Do you require any data pre-processing? Are all the features useful? (Use only raw features)\n",
        "- set the random seed to 123 (For splitting or any other random algorithm)\n",
        "- Split data into training (80%) and testing (20%)\n",
        "- Follow similar procedure as the one for week 2 (End-to-end Machine Learning Project). Remember apendix B\n",
        "- Study the ROC Curve, decide threshold\n",
        "- Implement hyper parameter tuning for your models. If you need to read more about hyperparameter tuning, please read [this](https://towardsdatascience.com/hyperparameter-tuning-c5619e7e6624) blog. You also had the same think in week 1 notebook (you can refer to the week 1 notebook to find out the code in action).\n",
        "- Use 2 classifiers ( we will discuss random forest later in the course).\n",
        "    - Random Forest (http://scikit-learn.org/stable/modules/generated/sklearn.ensemble.RandomForestClassifier.html)\n",
        "        - use hyperparameter tuning and try to tun only n_estimators with these values {3, 4, 6, 7, 10, 20, 50, 100} \n",
        "        \n",
        "    - KNN Classfier (http://scikit-learn.org/stable/modules/generated/sklearn.neighbors.KNeighborsClassifier.html)\n",
        "        - use hyperparameter tuning and try to tun only  n_neighbors with values {3, 4, 5, 7, 10, 20, 50} \n",
        "    - Which one performs better in the cross validation?\n",
        "    \n",
        "\n",
        "- Use Cross-validation with 4-folds and compare results.\n",
        "\n",
        "Notes:\n",
        "  - Make your code modular, the second part of the assignmet you will have to repeat. \n",
        "  - Provide inline comment and text for your code  readability "
      ]
    },
    {
      "cell_type": "code",
      "metadata": {
        "id": "jcK9rr6lR24d"
      },
      "source": [
        "### Your code here\n",
        "\n",
        "## Feel free to use multiple cells\n",
        "\n",
        "df = pd.read_excel(\"https://archive.ics.uci.edu/ml/machine-learning-databases/00350/default%20of%20credit%20card%20clients.xls\", skiprows= 1, header = 0)"
      ],
      "execution_count": 31,
      "outputs": []
    },
    {
      "cell_type": "code",
      "metadata": {
        "id": "17orkXFOXUe6"
      },
      "source": [
        "### RUN\n",
        "#df.loc[df.index[3330],\"BILL_AMT6\"]\n",
        "# why not\n",
        "df.loc[3330, \"BILL_AMT6\"]\n",
        "### Your code here\n",
        "\n",
        "df_explore = df.copy()\n",
        "df = df.rename(columns={\"default payment next month\": \"default\"})\n",
        "df_explore = df_explore.rename(columns={\"default payment next month\": \"default\"})\n"
      ],
      "execution_count": 32,
      "outputs": []
    },
    {
      "cell_type": "code",
      "metadata": {
        "id": "bGs1LQQ3_lqF"
      },
      "source": [
        "df.head()"
      ],
      "execution_count": null,
      "outputs": []
    },
    {
      "cell_type": "code",
      "metadata": {
        "id": "TTL5JwSRPGWy"
      },
      "source": [
        "df.info()"
      ],
      "execution_count": null,
      "outputs": []
    },
    {
      "cell_type": "code",
      "metadata": {
        "id": "XvJxHqSAZBCS"
      },
      "source": [
        "df.shape"
      ],
      "execution_count": null,
      "outputs": []
    },
    {
      "cell_type": "code",
      "metadata": {
        "id": "j8YxxygBls3o"
      },
      "source": [
        "df.dtypes"
      ],
      "execution_count": null,
      "outputs": []
    },
    {
      "cell_type": "code",
      "metadata": {
        "id": "OV7PrafWlxfB"
      },
      "source": [
        "pd.options.display.max_columns = None\n",
        "df_explore.sample(10, random_state=123)"
      ],
      "execution_count": null,
      "outputs": []
    },
    {
      "cell_type": "code",
      "metadata": {
        "id": "Ng0kE0zCmF0K"
      },
      "source": [
        "# count nulls -> no null values\n",
        "count_nulls = [ (x, df_explore[x].isnull().sum()) for x in df_explore.columns]\n",
        "count_nulls"
      ],
      "execution_count": null,
      "outputs": []
    },
    {
      "cell_type": "code",
      "metadata": {
        "id": "cDSlN4DzmKZM"
      },
      "source": [
        "# Class distribution\n",
        "\n",
        "defaults_distr = pd.DataFrame(df_explore['default'].value_counts().astype(int))\n",
        "defaults_distr"
      ],
      "execution_count": null,
      "outputs": []
    },
    {
      "cell_type": "code",
      "metadata": {
        "id": "WUsryeZrmPkk"
      },
      "source": [
        "print('Total number of clients: ' + str(int(defaults_distr['default'][0]+defaults_distr['default'][1]))) \n",
        "print('Defaults: ' + str(int(defaults_distr['default'][1])) + ' (' +\n",
        "      str((100.0*defaults_distr['default'][1])/(defaults_distr['default'][0]+defaults_distr['default'][1])) + '%)')"
      ],
      "execution_count": null,
      "outputs": []
    },
    {
      "cell_type": "code",
      "metadata": {
        "id": "auwZltxOmUnz"
      },
      "source": [
        "### RUN\n",
        "dependant_var = [\"default\"]\n",
        "\n",
        "categorical_vars = ['SEX', 'EDUCATION', 'MARRIAGE']\n",
        "\n",
        "continuous_vars = ['LIMIT_BAL', 'AGE', 'BILL_AMT1', 'BILL_AMT2', 'BILL_AMT3', 'BILL_AMT4', 'BILL_AMT5', 'BILL_AMT6', \n",
        "                   'PAY_AMT1', 'PAY_AMT2', 'PAY_AMT3', 'PAY_AMT4', 'PAY_AMT5', 'PAY_AMT6']\n",
        "discrete_vars = ['PAY_0', 'PAY_2', 'PAY_3', 'PAY_4', 'PAY_5', 'PAY_6']"
      ],
      "execution_count": 33,
      "outputs": []
    },
    {
      "cell_type": "code",
      "metadata": {
        "id": "bkTF0GycmV8A"
      },
      "source": [
        "pd.options.display.max_columns = None\n",
        "df_explore.loc[:, dependant_var + discrete_vars + continuous_vars].describe()"
      ],
      "execution_count": null,
      "outputs": []
    },
    {
      "cell_type": "code",
      "metadata": {
        "id": "pkJ4Rl62mbCy"
      },
      "source": [
        "df_explore.loc[:, discrete_vars].hist(bins=10, figsize=(15,10))\n",
        "plt.show();"
      ],
      "execution_count": null,
      "outputs": []
    },
    {
      "cell_type": "code",
      "metadata": {
        "id": "NpYUNeEOnGzB"
      },
      "source": [
        "df_explore.loc[:, continuous_vars].hist(bins=50, figsize=(20,15))\n",
        "plt.show();"
      ],
      "execution_count": null,
      "outputs": []
    },
    {
      "cell_type": "code",
      "metadata": {
        "id": "EoRb1YpTnJVQ"
      },
      "source": [
        "df_explore.loc[:, categorical_vars].hist(bins=10, figsize=(15,10))\n",
        "plt.show();"
      ],
      "execution_count": null,
      "outputs": []
    },
    {
      "cell_type": "code",
      "metadata": {
        "id": "Ks35JXPhnK7v"
      },
      "source": [
        "# more imports\n",
        "import seaborn as sns\n",
        "#sns.pairplot(data=df_explore.loc[:, dependant_var + continuous_vars]);\n"
      ],
      "execution_count": null,
      "outputs": []
    },
    {
      "cell_type": "code",
      "metadata": {
        "id": "ZQ7f9PU6oNXA"
      },
      "source": [
        "# Df to draw charts for clients that default, default=1\n",
        "df_default = df_explore.where(df_explore['default']==1)\n",
        "df_ok = df_explore.where(df_explore['default']==0)\n",
        "# Plot the density - all cases (green), payed (blue) and default (red)\n",
        "for i, var in enumerate(discrete_vars):\n",
        "    plt.figure(i)\n",
        "    plt.title(var)\n",
        "\n",
        "    plt.hist([df_explore.loc[:, var], df_ok.loc[:, var], df_default.loc[:, var]], density=True, color=['g','b','r'], alpha=0.8);"
      ],
      "execution_count": null,
      "outputs": []
    },
    {
      "cell_type": "code",
      "metadata": {
        "id": "FZaTX_q-o81F"
      },
      "source": [
        "# continuous vars\n",
        "for i, var in enumerate(continuous_vars):\n",
        "    plt.figure(i)\n",
        "    plt.title(var)\n",
        "\n",
        "    plt.hist([df_explore.loc[:, var], df_ok.loc[:, var], df_default.loc[:, var]], density=True, color=['g','b','r'], alpha=0.8);"
      ],
      "execution_count": null,
      "outputs": []
    },
    {
      "cell_type": "code",
      "metadata": {
        "id": "vbeLfAEKpQvL"
      },
      "source": [
        "# category variables\n",
        "for i, var in enumerate(categorical_vars):\n",
        "    plt.figure(i)\n",
        "    plt.title(var)\n",
        "\n",
        "    plt.hist([df_explore.loc[:, var], df_ok.loc[:, var], df_default.loc[:, var]], density=True, color=['g','b','r'], alpha=0.8);"
      ],
      "execution_count": null,
      "outputs": []
    },
    {
      "cell_type": "code",
      "metadata": {
        "id": "7Ly2e4X-uBm9"
      },
      "source": [
        "### RUN\n",
        "import scipy\n",
        "from sklearn.compose import ColumnTransformer\n",
        "from sklearn.pipeline import Pipeline\n",
        "from sklearn.preprocessing import MinMaxScaler\n",
        "from sklearn.preprocessing import OneHotEncoder\n",
        "from sklearn.model_selection import train_test_split\n",
        "from sklearn.model_selection import StratifiedShuffleSplit\n",
        "\n",
        "def rmse(a, b):\n",
        "    return np.sqrt(np.mean((a-b)**2))\n",
        "pd.options.display.max_columns = None"
      ],
      "execution_count": 34,
      "outputs": []
    },
    {
      "cell_type": "code",
      "metadata": {
        "id": "wIr5dMq0ugb7"
      },
      "source": [
        "# Categorical - one hot encode\n",
        "cat_ohe_step = ('ohe', OneHotEncoder(sparse=False, handle_unknown='ignore'))\n",
        "cat_steps = [cat_ohe_step]\n",
        "cat_pipe = Pipeline(cat_steps)\n",
        "cat_transformers = [('cat', cat_pipe, categorical_vars)]"
      ],
      "execution_count": 35,
      "outputs": []
    },
    {
      "cell_type": "code",
      "metadata": {
        "id": "H0bRoBjju19X"
      },
      "source": [
        "# Numerical - scale\n",
        "num_scl_step = ('scl', MinMaxScaler())\n",
        "num_steps = [num_scl_step]\n",
        "num_pipe = Pipeline(num_steps)\n",
        "num_transformers = [('num', num_pipe, continuous_vars + discrete_vars)]"
      ],
      "execution_count": 36,
      "outputs": []
    },
    {
      "cell_type": "code",
      "metadata": {
        "id": "ONz6oElpvJQy"
      },
      "source": [
        "\n",
        "ct = ColumnTransformer(transformers=cat_transformers + num_transformers)\n",
        "ct.fit(df[categorical_vars + continuous_vars  + discrete_vars])\n",
        "X = ct.transform(df[categorical_vars + continuous_vars + discrete_vars])\n",
        "y = df[['default']].values"
      ],
      "execution_count": 37,
      "outputs": []
    },
    {
      "cell_type": "code",
      "metadata": {
        "id": "ZFCxdngtvbVo",
        "colab": {
          "base_uri": "https://localhost:8080/",
          "height": 317
        },
        "outputId": "d3907b83-ae83-4610-ad4f-445098d4c7fe"
      },
      "source": [
        "df_describe = pd.DataFrame(X)\n",
        "df_describe.describe()"
      ],
      "execution_count": 26,
      "outputs": [
        {
          "output_type": "execute_result",
          "data": {
            "text/html": [
              "<div>\n",
              "<style scoped>\n",
              "    .dataframe tbody tr th:only-of-type {\n",
              "        vertical-align: middle;\n",
              "    }\n",
              "\n",
              "    .dataframe tbody tr th {\n",
              "        vertical-align: top;\n",
              "    }\n",
              "\n",
              "    .dataframe thead th {\n",
              "        text-align: right;\n",
              "    }\n",
              "</style>\n",
              "<table border=\"1\" class=\"dataframe\">\n",
              "  <thead>\n",
              "    <tr style=\"text-align: right;\">\n",
              "      <th></th>\n",
              "      <th>0</th>\n",
              "      <th>1</th>\n",
              "      <th>2</th>\n",
              "      <th>3</th>\n",
              "      <th>4</th>\n",
              "      <th>5</th>\n",
              "      <th>6</th>\n",
              "      <th>7</th>\n",
              "      <th>8</th>\n",
              "      <th>9</th>\n",
              "      <th>10</th>\n",
              "      <th>11</th>\n",
              "      <th>12</th>\n",
              "      <th>13</th>\n",
              "      <th>14</th>\n",
              "      <th>15</th>\n",
              "      <th>16</th>\n",
              "      <th>17</th>\n",
              "      <th>18</th>\n",
              "      <th>19</th>\n",
              "      <th>20</th>\n",
              "      <th>21</th>\n",
              "      <th>22</th>\n",
              "      <th>23</th>\n",
              "      <th>24</th>\n",
              "      <th>25</th>\n",
              "      <th>26</th>\n",
              "      <th>27</th>\n",
              "      <th>28</th>\n",
              "      <th>29</th>\n",
              "      <th>30</th>\n",
              "      <th>31</th>\n",
              "      <th>32</th>\n",
              "    </tr>\n",
              "  </thead>\n",
              "  <tbody>\n",
              "    <tr>\n",
              "      <th>count</th>\n",
              "      <td>30000.000000</td>\n",
              "      <td>30000.000000</td>\n",
              "      <td>30000.000000</td>\n",
              "      <td>30000.000000</td>\n",
              "      <td>30000.000000</td>\n",
              "      <td>30000.000000</td>\n",
              "      <td>30000.000000</td>\n",
              "      <td>30000.000000</td>\n",
              "      <td>30000.000000</td>\n",
              "      <td>30000.000000</td>\n",
              "      <td>30000.000000</td>\n",
              "      <td>30000.000000</td>\n",
              "      <td>30000.000000</td>\n",
              "      <td>30000.000000</td>\n",
              "      <td>30000.000000</td>\n",
              "      <td>30000.000000</td>\n",
              "      <td>30000.000000</td>\n",
              "      <td>30000.000000</td>\n",
              "      <td>30000.000000</td>\n",
              "      <td>30000.000000</td>\n",
              "      <td>30000.000000</td>\n",
              "      <td>30000.000000</td>\n",
              "      <td>30000.000000</td>\n",
              "      <td>30000.000000</td>\n",
              "      <td>30000.000000</td>\n",
              "      <td>30000.000000</td>\n",
              "      <td>30000.000000</td>\n",
              "      <td>30000.00000</td>\n",
              "      <td>30000.000000</td>\n",
              "      <td>30000.000000</td>\n",
              "      <td>30000.000000</td>\n",
              "      <td>30000.000000</td>\n",
              "      <td>30000.000000</td>\n",
              "    </tr>\n",
              "    <tr>\n",
              "      <th>mean</th>\n",
              "      <td>0.396267</td>\n",
              "      <td>0.603733</td>\n",
              "      <td>0.000467</td>\n",
              "      <td>0.352833</td>\n",
              "      <td>0.467667</td>\n",
              "      <td>0.163900</td>\n",
              "      <td>0.004100</td>\n",
              "      <td>0.009333</td>\n",
              "      <td>0.001700</td>\n",
              "      <td>0.001800</td>\n",
              "      <td>0.455300</td>\n",
              "      <td>0.532133</td>\n",
              "      <td>0.010767</td>\n",
              "      <td>0.159075</td>\n",
              "      <td>0.249750</td>\n",
              "      <td>0.191846</td>\n",
              "      <td>0.112893</td>\n",
              "      <td>0.112157</td>\n",
              "      <td>0.200891</td>\n",
              "      <td>0.120620</td>\n",
              "      <td>0.290851</td>\n",
              "      <td>0.006483</td>\n",
              "      <td>0.003516</td>\n",
              "      <td>0.005832</td>\n",
              "      <td>0.007771</td>\n",
              "      <td>0.011252</td>\n",
              "      <td>0.009865</td>\n",
              "      <td>0.19833</td>\n",
              "      <td>0.186623</td>\n",
              "      <td>0.183380</td>\n",
              "      <td>0.177933</td>\n",
              "      <td>0.173380</td>\n",
              "      <td>0.170890</td>\n",
              "    </tr>\n",
              "    <tr>\n",
              "      <th>std</th>\n",
              "      <td>0.489129</td>\n",
              "      <td>0.489129</td>\n",
              "      <td>0.021598</td>\n",
              "      <td>0.477859</td>\n",
              "      <td>0.498962</td>\n",
              "      <td>0.370191</td>\n",
              "      <td>0.063901</td>\n",
              "      <td>0.096159</td>\n",
              "      <td>0.041197</td>\n",
              "      <td>0.042389</td>\n",
              "      <td>0.498006</td>\n",
              "      <td>0.498975</td>\n",
              "      <td>0.103204</td>\n",
              "      <td>0.131058</td>\n",
              "      <td>0.158929</td>\n",
              "      <td>0.065159</td>\n",
              "      <td>0.067546</td>\n",
              "      <td>0.038076</td>\n",
              "      <td>0.060601</td>\n",
              "      <td>0.060284</td>\n",
              "      <td>0.045766</td>\n",
              "      <td>0.018961</td>\n",
              "      <td>0.013680</td>\n",
              "      <td>0.019650</td>\n",
              "      <td>0.025227</td>\n",
              "      <td>0.035820</td>\n",
              "      <td>0.033627</td>\n",
              "      <td>0.11238</td>\n",
              "      <td>0.119719</td>\n",
              "      <td>0.119687</td>\n",
              "      <td>0.116914</td>\n",
              "      <td>0.113319</td>\n",
              "      <td>0.114999</td>\n",
              "    </tr>\n",
              "    <tr>\n",
              "      <th>min</th>\n",
              "      <td>0.000000</td>\n",
              "      <td>0.000000</td>\n",
              "      <td>0.000000</td>\n",
              "      <td>0.000000</td>\n",
              "      <td>0.000000</td>\n",
              "      <td>0.000000</td>\n",
              "      <td>0.000000</td>\n",
              "      <td>0.000000</td>\n",
              "      <td>0.000000</td>\n",
              "      <td>0.000000</td>\n",
              "      <td>0.000000</td>\n",
              "      <td>0.000000</td>\n",
              "      <td>0.000000</td>\n",
              "      <td>0.000000</td>\n",
              "      <td>0.000000</td>\n",
              "      <td>0.000000</td>\n",
              "      <td>0.000000</td>\n",
              "      <td>0.000000</td>\n",
              "      <td>0.000000</td>\n",
              "      <td>0.000000</td>\n",
              "      <td>0.000000</td>\n",
              "      <td>0.000000</td>\n",
              "      <td>0.000000</td>\n",
              "      <td>0.000000</td>\n",
              "      <td>0.000000</td>\n",
              "      <td>0.000000</td>\n",
              "      <td>0.000000</td>\n",
              "      <td>0.00000</td>\n",
              "      <td>0.000000</td>\n",
              "      <td>0.000000</td>\n",
              "      <td>0.000000</td>\n",
              "      <td>0.000000</td>\n",
              "      <td>0.000000</td>\n",
              "    </tr>\n",
              "    <tr>\n",
              "      <th>25%</th>\n",
              "      <td>0.000000</td>\n",
              "      <td>0.000000</td>\n",
              "      <td>0.000000</td>\n",
              "      <td>0.000000</td>\n",
              "      <td>0.000000</td>\n",
              "      <td>0.000000</td>\n",
              "      <td>0.000000</td>\n",
              "      <td>0.000000</td>\n",
              "      <td>0.000000</td>\n",
              "      <td>0.000000</td>\n",
              "      <td>0.000000</td>\n",
              "      <td>0.000000</td>\n",
              "      <td>0.000000</td>\n",
              "      <td>0.040404</td>\n",
              "      <td>0.120690</td>\n",
              "      <td>0.149668</td>\n",
              "      <td>0.069053</td>\n",
              "      <td>0.087808</td>\n",
              "      <td>0.162330</td>\n",
              "      <td>0.082396</td>\n",
              "      <td>0.261944</td>\n",
              "      <td>0.001145</td>\n",
              "      <td>0.000495</td>\n",
              "      <td>0.000435</td>\n",
              "      <td>0.000477</td>\n",
              "      <td>0.000592</td>\n",
              "      <td>0.000223</td>\n",
              "      <td>0.10000</td>\n",
              "      <td>0.100000</td>\n",
              "      <td>0.100000</td>\n",
              "      <td>0.100000</td>\n",
              "      <td>0.100000</td>\n",
              "      <td>0.100000</td>\n",
              "    </tr>\n",
              "    <tr>\n",
              "      <th>50%</th>\n",
              "      <td>0.000000</td>\n",
              "      <td>1.000000</td>\n",
              "      <td>0.000000</td>\n",
              "      <td>0.000000</td>\n",
              "      <td>0.000000</td>\n",
              "      <td>0.000000</td>\n",
              "      <td>0.000000</td>\n",
              "      <td>0.000000</td>\n",
              "      <td>0.000000</td>\n",
              "      <td>0.000000</td>\n",
              "      <td>0.000000</td>\n",
              "      <td>1.000000</td>\n",
              "      <td>0.000000</td>\n",
              "      <td>0.131313</td>\n",
              "      <td>0.224138</td>\n",
              "      <td>0.166324</td>\n",
              "      <td>0.086340</td>\n",
              "      <td>0.097374</td>\n",
              "      <td>0.178084</td>\n",
              "      <td>0.098600</td>\n",
              "      <td>0.274097</td>\n",
              "      <td>0.002404</td>\n",
              "      <td>0.001193</td>\n",
              "      <td>0.002009</td>\n",
              "      <td>0.002415</td>\n",
              "      <td>0.003517</td>\n",
              "      <td>0.002837</td>\n",
              "      <td>0.20000</td>\n",
              "      <td>0.200000</td>\n",
              "      <td>0.200000</td>\n",
              "      <td>0.200000</td>\n",
              "      <td>0.200000</td>\n",
              "      <td>0.200000</td>\n",
              "    </tr>\n",
              "    <tr>\n",
              "      <th>75%</th>\n",
              "      <td>1.000000</td>\n",
              "      <td>1.000000</td>\n",
              "      <td>0.000000</td>\n",
              "      <td>1.000000</td>\n",
              "      <td>1.000000</td>\n",
              "      <td>0.000000</td>\n",
              "      <td>0.000000</td>\n",
              "      <td>0.000000</td>\n",
              "      <td>0.000000</td>\n",
              "      <td>0.000000</td>\n",
              "      <td>1.000000</td>\n",
              "      <td>1.000000</td>\n",
              "      <td>0.000000</td>\n",
              "      <td>0.232323</td>\n",
              "      <td>0.344828</td>\n",
              "      <td>0.205887</td>\n",
              "      <td>0.126964</td>\n",
              "      <td>0.119378</td>\n",
              "      <td>0.211482</td>\n",
              "      <td>0.130415</td>\n",
              "      <td>0.298787</td>\n",
              "      <td>0.005731</td>\n",
              "      <td>0.002969</td>\n",
              "      <td>0.005028</td>\n",
              "      <td>0.006463</td>\n",
              "      <td>0.009452</td>\n",
              "      <td>0.007566</td>\n",
              "      <td>0.20000</td>\n",
              "      <td>0.200000</td>\n",
              "      <td>0.200000</td>\n",
              "      <td>0.200000</td>\n",
              "      <td>0.200000</td>\n",
              "      <td>0.200000</td>\n",
              "    </tr>\n",
              "    <tr>\n",
              "      <th>max</th>\n",
              "      <td>1.000000</td>\n",
              "      <td>1.000000</td>\n",
              "      <td>1.000000</td>\n",
              "      <td>1.000000</td>\n",
              "      <td>1.000000</td>\n",
              "      <td>1.000000</td>\n",
              "      <td>1.000000</td>\n",
              "      <td>1.000000</td>\n",
              "      <td>1.000000</td>\n",
              "      <td>1.000000</td>\n",
              "      <td>1.000000</td>\n",
              "      <td>1.000000</td>\n",
              "      <td>1.000000</td>\n",
              "      <td>1.000000</td>\n",
              "      <td>1.000000</td>\n",
              "      <td>1.000000</td>\n",
              "      <td>1.000000</td>\n",
              "      <td>1.000000</td>\n",
              "      <td>1.000000</td>\n",
              "      <td>1.000000</td>\n",
              "      <td>1.000000</td>\n",
              "      <td>1.000000</td>\n",
              "      <td>1.000000</td>\n",
              "      <td>1.000000</td>\n",
              "      <td>1.000000</td>\n",
              "      <td>1.000000</td>\n",
              "      <td>1.000000</td>\n",
              "      <td>1.00000</td>\n",
              "      <td>1.000000</td>\n",
              "      <td>1.000000</td>\n",
              "      <td>1.000000</td>\n",
              "      <td>1.000000</td>\n",
              "      <td>1.000000</td>\n",
              "    </tr>\n",
              "  </tbody>\n",
              "</table>\n",
              "</div>"
            ],
            "text/plain": [
              "                 0             1             2             3             4   \\\n",
              "count  30000.000000  30000.000000  30000.000000  30000.000000  30000.000000   \n",
              "mean       0.396267      0.603733      0.000467      0.352833      0.467667   \n",
              "std        0.489129      0.489129      0.021598      0.477859      0.498962   \n",
              "min        0.000000      0.000000      0.000000      0.000000      0.000000   \n",
              "25%        0.000000      0.000000      0.000000      0.000000      0.000000   \n",
              "50%        0.000000      1.000000      0.000000      0.000000      0.000000   \n",
              "75%        1.000000      1.000000      0.000000      1.000000      1.000000   \n",
              "max        1.000000      1.000000      1.000000      1.000000      1.000000   \n",
              "\n",
              "                 5             6             7             8             9   \\\n",
              "count  30000.000000  30000.000000  30000.000000  30000.000000  30000.000000   \n",
              "mean       0.163900      0.004100      0.009333      0.001700      0.001800   \n",
              "std        0.370191      0.063901      0.096159      0.041197      0.042389   \n",
              "min        0.000000      0.000000      0.000000      0.000000      0.000000   \n",
              "25%        0.000000      0.000000      0.000000      0.000000      0.000000   \n",
              "50%        0.000000      0.000000      0.000000      0.000000      0.000000   \n",
              "75%        0.000000      0.000000      0.000000      0.000000      0.000000   \n",
              "max        1.000000      1.000000      1.000000      1.000000      1.000000   \n",
              "\n",
              "                 10            11            12            13            14  \\\n",
              "count  30000.000000  30000.000000  30000.000000  30000.000000  30000.000000   \n",
              "mean       0.455300      0.532133      0.010767      0.159075      0.249750   \n",
              "std        0.498006      0.498975      0.103204      0.131058      0.158929   \n",
              "min        0.000000      0.000000      0.000000      0.000000      0.000000   \n",
              "25%        0.000000      0.000000      0.000000      0.040404      0.120690   \n",
              "50%        0.000000      1.000000      0.000000      0.131313      0.224138   \n",
              "75%        1.000000      1.000000      0.000000      0.232323      0.344828   \n",
              "max        1.000000      1.000000      1.000000      1.000000      1.000000   \n",
              "\n",
              "                 15            16            17            18            19  \\\n",
              "count  30000.000000  30000.000000  30000.000000  30000.000000  30000.000000   \n",
              "mean       0.191846      0.112893      0.112157      0.200891      0.120620   \n",
              "std        0.065159      0.067546      0.038076      0.060601      0.060284   \n",
              "min        0.000000      0.000000      0.000000      0.000000      0.000000   \n",
              "25%        0.149668      0.069053      0.087808      0.162330      0.082396   \n",
              "50%        0.166324      0.086340      0.097374      0.178084      0.098600   \n",
              "75%        0.205887      0.126964      0.119378      0.211482      0.130415   \n",
              "max        1.000000      1.000000      1.000000      1.000000      1.000000   \n",
              "\n",
              "                 20            21            22            23            24  \\\n",
              "count  30000.000000  30000.000000  30000.000000  30000.000000  30000.000000   \n",
              "mean       0.290851      0.006483      0.003516      0.005832      0.007771   \n",
              "std        0.045766      0.018961      0.013680      0.019650      0.025227   \n",
              "min        0.000000      0.000000      0.000000      0.000000      0.000000   \n",
              "25%        0.261944      0.001145      0.000495      0.000435      0.000477   \n",
              "50%        0.274097      0.002404      0.001193      0.002009      0.002415   \n",
              "75%        0.298787      0.005731      0.002969      0.005028      0.006463   \n",
              "max        1.000000      1.000000      1.000000      1.000000      1.000000   \n",
              "\n",
              "                 25            26           27            28            29  \\\n",
              "count  30000.000000  30000.000000  30000.00000  30000.000000  30000.000000   \n",
              "mean       0.011252      0.009865      0.19833      0.186623      0.183380   \n",
              "std        0.035820      0.033627      0.11238      0.119719      0.119687   \n",
              "min        0.000000      0.000000      0.00000      0.000000      0.000000   \n",
              "25%        0.000592      0.000223      0.10000      0.100000      0.100000   \n",
              "50%        0.003517      0.002837      0.20000      0.200000      0.200000   \n",
              "75%        0.009452      0.007566      0.20000      0.200000      0.200000   \n",
              "max        1.000000      1.000000      1.00000      1.000000      1.000000   \n",
              "\n",
              "                 30            31            32  \n",
              "count  30000.000000  30000.000000  30000.000000  \n",
              "mean       0.177933      0.173380      0.170890  \n",
              "std        0.116914      0.113319      0.114999  \n",
              "min        0.000000      0.000000      0.000000  \n",
              "25%        0.100000      0.100000      0.100000  \n",
              "50%        0.200000      0.200000      0.200000  \n",
              "75%        0.200000      0.200000      0.200000  \n",
              "max        1.000000      1.000000      1.000000  "
            ]
          },
          "metadata": {
            "tags": []
          },
          "execution_count": 26
        }
      ]
    },
    {
      "cell_type": "code",
      "metadata": {
        "id": "99G3M4t_vurJ",
        "colab": {
          "base_uri": "https://localhost:8080/"
        },
        "outputId": "61a6cb7e-59d5-45fb-abf6-85befc3d21be"
      },
      "source": [
        "# CHANGE\n",
        "%%time\n",
        "X_train, X_test, y_train, y_test = train_test_split(X, y, test_size=0.4, random_state=123, stratify=y)\n",
        "print(X_train.shape, X_test.shape, y_train.shape, y_test.shape)"
      ],
      "execution_count": 38,
      "outputs": [
        {
          "output_type": "stream",
          "text": [
            "(18000, 33) (12000, 33) (18000, 1) (12000, 1)\n",
            "CPU times: user 139 ms, sys: 1.01 ms, total: 140 ms\n",
            "Wall time: 138 ms\n"
          ],
          "name": "stdout"
        }
      ]
    },
    {
      "cell_type": "markdown",
      "metadata": {
        "id": "W6OjTAJ5v1VF"
      },
      "source": [
        "## **The model**\n",
        "It will be a supervised ML problem, with dependant variable \"default\".\n",
        "The response variable is binary (1 or 0), the type of the model will be classification."
      ]
    },
    {
      "cell_type": "code",
      "metadata": {
        "id": "wfFG2ftwxP1u"
      },
      "source": [
        "from sklearn.ensemble import RandomForestClassifier\n",
        "from sklearn.neighbors import KNeighborsClassifier\n",
        "\n",
        "def display_results(model, X, y):\n",
        "    print(\"RMSE:\", rmse(model.predict(X), y))\n",
        "    print(\"Predicted 1-5:\", model.predict(X_test[0:5]))\n",
        "    print(\"Actual 1-5:\", y_test[0:5, 0])"
      ],
      "execution_count": 39,
      "outputs": []
    },
    {
      "cell_type": "markdown",
      "metadata": {
        "id": "dEe-z0ZcxVHv"
      },
      "source": [
        "## Random Forrest Classifier\n",
        "\n",
        "use hyperparameter tuning and try to tun only n_estimators with these values {3, 4, 6, 7, 10, 20, 50, 100}"
      ]
    },
    {
      "cell_type": "code",
      "metadata": {
        "id": "pcHGINsXxTSe",
        "colab": {
          "base_uri": "https://localhost:8080/"
        },
        "outputId": "42ee470b-92c1-4bc7-c93e-ba9eafd106c4"
      },
      "source": [
        "%%time\n",
        "for n_est in [3, 4, 6, 7, 10, 20, 50, 100]:\n",
        "    rf = RandomForestClassifier(n_estimators=n_est, random_state=123)\n",
        "    rf.fit(X_train, np.ravel(y_train))\n",
        "    print('----- Number of estimators:' + str(n_est) + '-------------')\n",
        "    display_results(rf, X, y)"
      ],
      "execution_count": 40,
      "outputs": [
        {
          "output_type": "stream",
          "text": [
            "----- Number of estimators:3-------------\n",
            "RMSE: 0.5750762036460907\n",
            "Predicted 1-5: [0 0 0 0 0]\n",
            "Actual 1-5: [1 0 0 0 0]\n",
            "----- Number of estimators:4-------------\n",
            "RMSE: 0.5512640746502533\n",
            "Predicted 1-5: [0 0 0 0 0]\n",
            "Actual 1-5: [1 0 0 0 0]\n",
            "----- Number of estimators:6-------------\n",
            "RMSE: 0.5554793725543131\n",
            "Predicted 1-5: [0 0 0 0 0]\n",
            "Actual 1-5: [1 0 0 0 0]\n",
            "----- Number of estimators:7-------------\n",
            "RMSE: 0.568640765334319\n",
            "Predicted 1-5: [0 0 0 0 0]\n",
            "Actual 1-5: [1 0 0 0 0]\n",
            "----- Number of estimators:10-------------\n",
            "RMSE: 0.5606251986250113\n",
            "Predicted 1-5: [0 0 0 0 0]\n",
            "Actual 1-5: [1 0 0 0 0]\n",
            "----- Number of estimators:20-------------\n",
            "RMSE: 0.5648858055689958\n",
            "Predicted 1-5: [0 0 0 0 0]\n",
            "Actual 1-5: [1 0 0 0 0]\n",
            "----- Number of estimators:50-------------\n",
            "RMSE: 0.5676920761586631\n",
            "Predicted 1-5: [0 0 0 0 0]\n",
            "Actual 1-5: [1 0 0 0 0]\n",
            "----- Number of estimators:100-------------\n",
            "RMSE: 0.5679866665101685\n",
            "Predicted 1-5: [0 0 0 0 0]\n",
            "Actual 1-5: [1 0 0 0 0]\n",
            "CPU times: user 38.5 s, sys: 186 ms, total: 38.7 s\n",
            "Wall time: 38.5 s\n"
          ],
          "name": "stdout"
        }
      ]
    },
    {
      "cell_type": "markdown",
      "metadata": {
        "id": "jAaEj4RO5dxR"
      },
      "source": [
        "## KNeighbors Classifier\n",
        "\n",
        "use hyperparameter tuning and try to tun only n_neighbors with values {3, 4, 5, 7, 10, 20, 50}"
      ]
    },
    {
      "cell_type": "code",
      "metadata": {
        "colab": {
          "base_uri": "https://localhost:8080/"
        },
        "id": "Z2ocVTYo56ts",
        "outputId": "454e19dc-ab69-45cb-cfd1-0e8d7a242c12"
      },
      "source": [
        "%%time\n",
        "for n_nei in [3, 4, 5, 7, 10, 20, 50]:\n",
        "    knn = KNeighborsClassifier(n_neighbors=n_nei)\n",
        "    knn.fit(X_train, np.ravel(y_train))\n",
        "    print('----- Number of neighbors:' + str(n_nei) + '-------------')\n",
        "    display_results(knn, X, y)"
      ],
      "execution_count": 13,
      "outputs": [
        {
          "output_type": "stream",
          "text": [
            "----- Number of neighbors:3-------------\n",
            "RMSE: 0.5576000717360069\n",
            "Predicted 1-5: [0 1 1 0 0]\n",
            "Actual 1-5: [0 1 1 0 0]\n",
            "----- Number of neighbors:4-------------\n",
            "RMSE: 0.5233480677331293\n",
            "Predicted 1-5: [0 0 1 0 0]\n",
            "Actual 1-5: [0 1 1 0 0]\n",
            "----- Number of neighbors:5-------------\n",
            "RMSE: 0.5457746787823708\n",
            "Predicted 1-5: [0 0 1 0 0]\n",
            "Actual 1-5: [0 1 1 0 0]\n",
            "----- Number of neighbors:7-------------\n",
            "RMSE: 0.5401262815305324\n",
            "Predicted 1-5: [1 0 1 0 0]\n",
            "Actual 1-5: [0 1 1 0 0]\n",
            "----- Number of neighbors:10-------------\n",
            "RMSE: 0.5249083983579104\n",
            "Predicted 1-5: [1 0 1 0 0]\n",
            "Actual 1-5: [0 1 1 0 0]\n",
            "----- Number of neighbors:20-------------\n",
            "RMSE: 0.5241465443938365\n",
            "Predicted 1-5: [1 0 1 0 0]\n",
            "Actual 1-5: [0 1 1 0 0]\n",
            "----- Number of neighbors:50-------------\n",
            "RMSE: 0.5197844425015687\n",
            "Predicted 1-5: [0 0 1 0 0]\n",
            "Actual 1-5: [0 1 1 0 0]\n",
            "CPU times: user 1min 31s, sys: 159 ms, total: 1min 31s\n",
            "Wall time: 1min 30s\n"
          ],
          "name": "stdout"
        }
      ]
    },
    {
      "cell_type": "code",
      "metadata": {
        "colab": {
          "base_uri": "https://localhost:8080/"
        },
        "id": "IZiaFpdw8Qtw",
        "outputId": "301d2ada-e171-4fc5-8d7f-b24f08d20511"
      },
      "source": [
        "# Later will find better models. Here we are interested of variable's importance\n",
        "# Best RMSE: a) Random forest: n_estimators=4; b) KNeighbors: n_neighbours=10\n",
        "rf_best = RandomForestClassifier(n_estimators=4, random_state=123)\n",
        "rf_best.fit(X_train, np.ravel(y_train))\n",
        "\n",
        "knn_best = KNeighborsClassifier(n_neighbors=5)\n",
        "knn_best.fit(X_train, np.ravel(y_train))"
      ],
      "execution_count": 41,
      "outputs": [
        {
          "output_type": "execute_result",
          "data": {
            "text/plain": [
              "KNeighborsClassifier(algorithm='auto', leaf_size=30, metric='minkowski',\n",
              "                     metric_params=None, n_jobs=None, n_neighbors=5, p=2,\n",
              "                     weights='uniform')"
            ]
          },
          "metadata": {
            "tags": []
          },
          "execution_count": 41
        }
      ]
    },
    {
      "cell_type": "markdown",
      "metadata": {
        "id": "OzIhx9CoC6ZW"
      },
      "source": [
        "## Cross Validation"
      ]
    },
    {
      "cell_type": "code",
      "metadata": {
        "id": "-yrYLq4mC93O"
      },
      "source": [
        "from sklearn.model_selection import cross_val_score\n",
        "\n",
        "def display_scores(scores):\n",
        "    print(\"Scores:\", np.sqrt(-scores))\n",
        "    print(\"Mean:\", np.sqrt(-scores).mean())\n",
        "    print(\"Standard deviation:\", np.sqrt(-scores).std())"
      ],
      "execution_count": 50,
      "outputs": []
    },
    {
      "cell_type": "code",
      "metadata": {
        "colab": {
          "base_uri": "https://localhost:8080/"
        },
        "id": "aka1QxsxC__A",
        "outputId": "8dd4d2bc-8701-464b-bb15-bd35d65cac29"
      },
      "source": [
        "%%time\n",
        "\n",
        "for n_est in [3, 4, 6, 7, 10, 20, 50, 100]:\n",
        "    print('------------ Random Forest. n_estimators = ', str(n_est), ' ------------')\n",
        "    rf = RandomForestClassifier(n_estimators=n_est, random_state=123)\n",
        "    scores = cross_val_score(rf, X, np.ravel(y), cv=3, scoring='neg_mean_squared_error')\n",
        "    np.sqrt(-scores)\n",
        "    display_scores(scores)"
      ],
      "execution_count": 53,
      "outputs": [
        {
          "output_type": "stream",
          "text": [
            "------------ Random Forest. n_estimators =  3  ------------\n",
            "Scores: [0.48723711 0.48124838 0.47833043]\n",
            "Mean: 0.48227197164929586\n",
            "Standard deviation: 0.0037074737356711423\n",
            "------------ Random Forest. n_estimators =  4  ------------\n",
            "Scores: [0.4594562  0.45442271 0.45199558]\n",
            "Mean: 0.4552914954020191\n",
            "Standard deviation: 0.0031071232021384772\n",
            "------------ Random Forest. n_estimators =  6  ------------\n",
            "Scores: [0.45475268 0.4456456  0.44395946]\n",
            "Mean: 0.44811924558256305\n",
            "Standard deviation: 0.004740788104094126\n",
            "------------ Random Forest. n_estimators =  7  ------------\n",
            "Scores: [0.46195238 0.44866469 0.44519659]\n",
            "Mean: 0.4519378832575254\n",
            "Standard deviation: 0.0072214733058643815\n",
            "------------ Random Forest. n_estimators =  10  ------------\n",
            "Scores: [0.44899889 0.43737855 0.43783559]\n",
            "Mean: 0.44140434218841545\n",
            "Standard deviation: 0.00537339407440763\n",
            "------------ Random Forest. n_estimators =  20  ------------\n",
            "Scores: [0.44328321 0.42988371 0.43335897]\n",
            "Mean: 0.43550862799684426\n",
            "Standard deviation: 0.0056775822588823795\n",
            "------------ Random Forest. n_estimators =  50  ------------\n",
            "Scores: [0.43977267 0.42673177 0.42661458]\n",
            "Mean: 0.4310396715223295\n",
            "Standard deviation: 0.006175346731607814\n",
            "------------ Random Forest. n_estimators =  100  ------------\n",
            "Scores: [0.43977267 0.42649736 0.42284749]\n",
            "Mean: 0.4297058403419875\n",
            "Standard deviation: 0.007272604484391251\n",
            "CPU times: user 32.6 s, sys: 51.1 ms, total: 32.7 s\n",
            "Wall time: 32.5 s\n"
          ],
          "name": "stdout"
        }
      ]
    },
    {
      "cell_type": "code",
      "metadata": {
        "id": "7bPdf-G2DXMs"
      },
      "source": [
        ""
      ],
      "execution_count": null,
      "outputs": []
    },
    {
      "cell_type": "markdown",
      "metadata": {
        "id": "-xpROAIV7FM9"
      },
      "source": [
        "# Hyperparameter search"
      ]
    },
    {
      "cell_type": "code",
      "metadata": {
        "id": "vD9KBpNBw4_y"
      },
      "source": [
        "from sklearn.model_selection import GridSearchCV"
      ],
      "execution_count": 42,
      "outputs": []
    },
    {
      "cell_type": "code",
      "metadata": {
        "id": "hX_1nHRIw9E7",
        "colab": {
          "base_uri": "https://localhost:8080/"
        },
        "outputId": "52a2d8bc-dfd0-42ce-950d-9ea691370ac2"
      },
      "source": [
        "%%time\n",
        "# we create a dictionary of lists, each key is a parameter name\n",
        "# and the list is the possible values it can take\n",
        "\n",
        "param_grid = {\n",
        "    'n_estimators':[3, 4, 6, 7, 10, 20, 50, 100]\n",
        "}\n",
        "\n",
        "clf = RandomForestClassifier(n_estimators =  50, random_state = 123)\n",
        "# we pass the model, our parameter grid, and cross-validation parameters to the class\n",
        "grid_search = GridSearchCV(estimator=clf, \n",
        "                           param_grid=param_grid,\n",
        "                           scoring='neg_mean_squared_error',\n",
        "                           cv=5)\n",
        "# last, we fit our data. This will take a while...\n",
        "grid_search.fit(X=X, y=np.ravel(y))"
      ],
      "execution_count": 43,
      "outputs": [
        {
          "output_type": "stream",
          "text": [
            "CPU times: user 1min 13s, sys: 146 ms, total: 1min 13s\n",
            "Wall time: 1min 13s\n"
          ],
          "name": "stdout"
        }
      ]
    },
    {
      "cell_type": "code",
      "metadata": {
        "colab": {
          "base_uri": "https://localhost:8080/"
        },
        "id": "T0VnWKq19XYY",
        "outputId": "7850abbc-495b-45ba-9891-ba92d9addb85"
      },
      "source": [
        "print(grid_search.best_params_)\n",
        "print(\"\\n\", grid_search.best_estimator_)"
      ],
      "execution_count": 44,
      "outputs": [
        {
          "output_type": "stream",
          "text": [
            "{'n_estimators': 100}\n",
            "\n",
            " RandomForestClassifier(bootstrap=True, ccp_alpha=0.0, class_weight=None,\n",
            "                       criterion='gini', max_depth=None, max_features='auto',\n",
            "                       max_leaf_nodes=None, max_samples=None,\n",
            "                       min_impurity_decrease=0.0, min_impurity_split=None,\n",
            "                       min_samples_leaf=1, min_samples_split=2,\n",
            "                       min_weight_fraction_leaf=0.0, n_estimators=100,\n",
            "                       n_jobs=None, oob_score=False, random_state=123,\n",
            "                       verbose=0, warm_start=False)\n"
          ],
          "name": "stdout"
        }
      ]
    },
    {
      "cell_type": "code",
      "metadata": {
        "id": "zCbRS0id9c09"
      },
      "source": [
        "cv_scores= grid_search.cv_results_\n",
        "cv_scores = grid_search.cv_results_\n",
        "for mean_score, params in zip(cv_scores['mean_test_score'], cv_scores['params']):\n",
        "    if np.sqrt(-mean_score) < 0.43027 :\n",
        "        print(np.sqrt(-mean_score), params)"
      ],
      "execution_count": 45,
      "outputs": []
    },
    {
      "cell_type": "code",
      "metadata": {
        "colab": {
          "base_uri": "https://localhost:8080/"
        },
        "id": "GVydKeI09hd3",
        "outputId": "9f73b2cd-d182-431c-e11c-970c054ed656"
      },
      "source": [
        "final_model_rf = grid_search.best_estimator_\n",
        "display_results(final_model_rf, X_test, y_test)\n",
        "print(f'Model Accuracy: {final_model_rf.score(X_test, y_test)}')"
      ],
      "execution_count": 46,
      "outputs": [
        {
          "output_type": "stream",
          "text": [
            "RMSE: 0.5867466091366301\n",
            "Predicted 1-5: [1 0 0 0 0]\n",
            "Actual 1-5: [1 0 0 0 0]\n",
            "Model Accuracy: 0.99925\n"
          ],
          "name": "stdout"
        }
      ]
    },
    {
      "cell_type": "code",
      "metadata": {
        "id": "hJCSHG599lva"
      },
      "source": [
        "from sklearn.metrics import roc_curve\n",
        "from sklearn.metrics import roc_auc_score\n",
        "from matplotlib import pyplot\n",
        "from sklearn.metrics import accuracy_score, confusion_matrix"
      ],
      "execution_count": 47,
      "outputs": []
    },
    {
      "cell_type": "code",
      "metadata": {
        "id": "LubyH_gmwKAw",
        "colab": {
          "base_uri": "https://localhost:8080/",
          "height": 303
        },
        "outputId": "5797db82-6a8b-4e64-d03d-d26760134895"
      },
      "source": [
        "# roc curve and auc\n",
        "\n",
        "# fit a model\n",
        "model = final_model_rf\n",
        "model.fit(X_train, np.ravel(y_train))\n",
        "\n",
        "# predict probabilities\n",
        "rf_probs = model.predict_proba(X_test)\n",
        "\n",
        "# keep probabilities for the positive outcome only\n",
        "rf_probs = rf_probs[:, 1]\n",
        "# calculate scores\n",
        "\n",
        "rf_auc = roc_auc_score(y_test, rf_probs)\n",
        "# summarize scores\n",
        "print(' Random forest: ROC AUC=%.3f' % (rf_auc))\n",
        "\n",
        "# calculate roc curve\n",
        "rf_fpr, rf_tpr, thresholds = roc_curve(y_test, rf_probs)\n",
        "#print('Thresholds', thresholds)\n",
        "\n",
        "# plot the roc curve for the model\n",
        "pyplot.plot(rf_fpr, rf_tpr, marker='.', label='Random Forest: ROC Curve')\n",
        "# axis labels\n",
        "pyplot.xlabel('False Positive Rate')\n",
        "pyplot.ylabel('True Positive Rate')\n",
        "\n",
        "# show the legend\n",
        "pyplot.legend(loc=4)\n",
        "# show the plot\n",
        "pyplot.show()"
      ],
      "execution_count": 48,
      "outputs": [
        {
          "output_type": "stream",
          "text": [
            " Random forest: ROC AUC=0.764\n"
          ],
          "name": "stdout"
        },
        {
          "output_type": "display_data",
          "data": {
            "image/png": "[encoded data removed]",
            "text/plain": [
              "<Figure size 432x288 with 1 Axes>"
            ]
          },
          "metadata": {
            "tags": [],
            "needs_background": "light"
          }
        }
      ]
    },
    {
      "cell_type": "code",
      "metadata": {
        "id": "VMkflm9Ay-UV"
      },
      "source": [
        "max(df.loc[:,\"PAY_0\"])"
      ],
      "execution_count": null,
      "outputs": []
    },
    {
      "cell_type": "code",
      "metadata": {
        "id": "Yghzvq0VR24i"
      },
      "source": [
        "# Cross-validation with 5-folds\n",
        "#Did you get different results compared to the 4-fold case?"
      ],
      "execution_count": null,
      "outputs": []
    },
    {
      "cell_type": "markdown",
      "metadata": {
        "id": "C3HDtUyzR24j"
      },
      "source": [
        "#### Conclusions?"
      ]
    },
    {
      "cell_type": "markdown",
      "metadata": {
        "id": "dzyM49VVR24k"
      },
      "source": [
        "Explain your results and choices"
      ]
    },
    {
      "cell_type": "code",
      "metadata": {
        "id": "uZNssFNgR24l"
      },
      "source": [
        ""
      ],
      "execution_count": null,
      "outputs": []
    },
    {
      "cell_type": "markdown",
      "metadata": {
        "id": "x-6LCux9R24o"
      },
      "source": [
        "Q2. (Optional) Write a function that can shift an MNIST image in any direction (left, right, up, or down) by one pixel. Then, for each image in the training set, create four shifted copies (one per direction) and add them to the training set. Finally, train your best model on this expanded training set and measure its accuracy on the test set. You should observe that your model performs even better now! This technique of artificially growing the training set is called data augmentation or training set expansion. "
      ]
    },
    {
      "cell_type": "markdown",
      "metadata": {
        "id": "E5UGBa2AR24o"
      },
      "source": [
        "### Conclusions\n"
      ]
    },
    {
      "cell_type": "code",
      "metadata": {
        "id": "hBBG-JBHR24o"
      },
      "source": [
        ""
      ],
      "execution_count": null,
      "outputs": []
    }
  ]
}